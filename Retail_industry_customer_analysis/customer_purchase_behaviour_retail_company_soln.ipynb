{
 "cells": [
  {
   "cell_type": "markdown",
   "id": "63260157",
   "metadata": {},
   "source": [
    "# Problem Statement\n",
    "The Management team at Retail store wants to analyze the customer purchase behavior (specifically, purchase amount) against the customer’s gender and the various other factors to help the business make better decisions. They want to understand if the spending habits differ between male and female customers: Do women spend more on Black Friday than men? (Assume 50 million customers are male and 50 million are female)."
   ]
  },
  {
   "cell_type": "markdown",
   "id": "a88eaf5e",
   "metadata": {},
   "source": [
    "## Dataset \n",
    "The company collected the transactional data of customers who purchased products from the retail Stores during Black Friday. The dataset has the following features:   \n",
    "User_ID: User ID    \n",
    "Product_ID:\tProduct ID    \n",
    "Gender:\tSex of User   \n",
    "Age:\tAge in bins   \n",
    "Occupation:\tOccupation(Masked)    \n",
    "City_Category:\tCategory of the City (A,B,C)   \n",
    "StayInCurrentCityYears:\tNumber of years stay in current city     \n",
    "Marital_Status:\tMarital Status   \n",
    "ProductCategory:\tProduct Category (Masked)     \n",
    "Purchase:\tPurchase Amount    "
   ]
  },
  {
   "cell_type": "markdown",
   "id": "da93076b",
   "metadata": {},
   "source": [
    "### Data Exploration"
   ]
  },
  {
   "cell_type": "code",
   "execution_count": 1,
   "id": "c917a606",
   "metadata": {},
   "outputs": [],
   "source": [
    "import pandas as pd\n",
    "import numpy as np\n",
    "import seaborn as sns\n",
    "import matplotlib.pyplot as plt\n",
    "from scipy.stats import norm"
   ]
  },
  {
   "cell_type": "code",
   "execution_count": 2,
   "id": "39deceab",
   "metadata": {},
   "outputs": [
    {
     "data": {
      "text/html": [
       "<div>\n",
       "<style scoped>\n",
       "    .dataframe tbody tr th:only-of-type {\n",
       "        vertical-align: middle;\n",
       "    }\n",
       "\n",
       "    .dataframe tbody tr th {\n",
       "        vertical-align: top;\n",
       "    }\n",
       "\n",
       "    .dataframe thead th {\n",
       "        text-align: right;\n",
       "    }\n",
       "</style>\n",
       "<table border=\"1\" class=\"dataframe\">\n",
       "  <thead>\n",
       "    <tr style=\"text-align: right;\">\n",
       "      <th></th>\n",
       "      <th>User_ID</th>\n",
       "      <th>Product_ID</th>\n",
       "      <th>Gender</th>\n",
       "      <th>Age</th>\n",
       "      <th>Occupation</th>\n",
       "      <th>City_Category</th>\n",
       "      <th>Stay_In_Current_City_Years</th>\n",
       "      <th>Marital_Status</th>\n",
       "      <th>Product_Category</th>\n",
       "      <th>Purchase</th>\n",
       "    </tr>\n",
       "  </thead>\n",
       "  <tbody>\n",
       "    <tr>\n",
       "      <th>0</th>\n",
       "      <td>1000001</td>\n",
       "      <td>P00069042</td>\n",
       "      <td>F</td>\n",
       "      <td>0-17</td>\n",
       "      <td>10</td>\n",
       "      <td>A</td>\n",
       "      <td>2</td>\n",
       "      <td>0</td>\n",
       "      <td>3</td>\n",
       "      <td>8370</td>\n",
       "    </tr>\n",
       "    <tr>\n",
       "      <th>1</th>\n",
       "      <td>1000001</td>\n",
       "      <td>P00248942</td>\n",
       "      <td>F</td>\n",
       "      <td>0-17</td>\n",
       "      <td>10</td>\n",
       "      <td>A</td>\n",
       "      <td>2</td>\n",
       "      <td>0</td>\n",
       "      <td>1</td>\n",
       "      <td>15200</td>\n",
       "    </tr>\n",
       "    <tr>\n",
       "      <th>2</th>\n",
       "      <td>1000001</td>\n",
       "      <td>P00087842</td>\n",
       "      <td>F</td>\n",
       "      <td>0-17</td>\n",
       "      <td>10</td>\n",
       "      <td>A</td>\n",
       "      <td>2</td>\n",
       "      <td>0</td>\n",
       "      <td>12</td>\n",
       "      <td>1422</td>\n",
       "    </tr>\n",
       "    <tr>\n",
       "      <th>3</th>\n",
       "      <td>1000001</td>\n",
       "      <td>P00085442</td>\n",
       "      <td>F</td>\n",
       "      <td>0-17</td>\n",
       "      <td>10</td>\n",
       "      <td>A</td>\n",
       "      <td>2</td>\n",
       "      <td>0</td>\n",
       "      <td>12</td>\n",
       "      <td>1057</td>\n",
       "    </tr>\n",
       "    <tr>\n",
       "      <th>4</th>\n",
       "      <td>1000002</td>\n",
       "      <td>P00285442</td>\n",
       "      <td>M</td>\n",
       "      <td>55+</td>\n",
       "      <td>16</td>\n",
       "      <td>C</td>\n",
       "      <td>4+</td>\n",
       "      <td>0</td>\n",
       "      <td>8</td>\n",
       "      <td>7969</td>\n",
       "    </tr>\n",
       "    <tr>\n",
       "      <th>...</th>\n",
       "      <td>...</td>\n",
       "      <td>...</td>\n",
       "      <td>...</td>\n",
       "      <td>...</td>\n",
       "      <td>...</td>\n",
       "      <td>...</td>\n",
       "      <td>...</td>\n",
       "      <td>...</td>\n",
       "      <td>...</td>\n",
       "      <td>...</td>\n",
       "    </tr>\n",
       "    <tr>\n",
       "      <th>550063</th>\n",
       "      <td>1006033</td>\n",
       "      <td>P00372445</td>\n",
       "      <td>M</td>\n",
       "      <td>51-55</td>\n",
       "      <td>13</td>\n",
       "      <td>B</td>\n",
       "      <td>1</td>\n",
       "      <td>1</td>\n",
       "      <td>20</td>\n",
       "      <td>368</td>\n",
       "    </tr>\n",
       "    <tr>\n",
       "      <th>550064</th>\n",
       "      <td>1006035</td>\n",
       "      <td>P00375436</td>\n",
       "      <td>F</td>\n",
       "      <td>26-35</td>\n",
       "      <td>1</td>\n",
       "      <td>C</td>\n",
       "      <td>3</td>\n",
       "      <td>0</td>\n",
       "      <td>20</td>\n",
       "      <td>371</td>\n",
       "    </tr>\n",
       "    <tr>\n",
       "      <th>550065</th>\n",
       "      <td>1006036</td>\n",
       "      <td>P00375436</td>\n",
       "      <td>F</td>\n",
       "      <td>26-35</td>\n",
       "      <td>15</td>\n",
       "      <td>B</td>\n",
       "      <td>4+</td>\n",
       "      <td>1</td>\n",
       "      <td>20</td>\n",
       "      <td>137</td>\n",
       "    </tr>\n",
       "    <tr>\n",
       "      <th>550066</th>\n",
       "      <td>1006038</td>\n",
       "      <td>P00375436</td>\n",
       "      <td>F</td>\n",
       "      <td>55+</td>\n",
       "      <td>1</td>\n",
       "      <td>C</td>\n",
       "      <td>2</td>\n",
       "      <td>0</td>\n",
       "      <td>20</td>\n",
       "      <td>365</td>\n",
       "    </tr>\n",
       "    <tr>\n",
       "      <th>550067</th>\n",
       "      <td>1006039</td>\n",
       "      <td>P00371644</td>\n",
       "      <td>F</td>\n",
       "      <td>46-50</td>\n",
       "      <td>0</td>\n",
       "      <td>B</td>\n",
       "      <td>4+</td>\n",
       "      <td>1</td>\n",
       "      <td>20</td>\n",
       "      <td>490</td>\n",
       "    </tr>\n",
       "  </tbody>\n",
       "</table>\n",
       "<p>550068 rows × 10 columns</p>\n",
       "</div>"
      ],
      "text/plain": [
       "        User_ID Product_ID Gender    Age  Occupation City_Category  \\\n",
       "0       1000001  P00069042      F   0-17          10             A   \n",
       "1       1000001  P00248942      F   0-17          10             A   \n",
       "2       1000001  P00087842      F   0-17          10             A   \n",
       "3       1000001  P00085442      F   0-17          10             A   \n",
       "4       1000002  P00285442      M    55+          16             C   \n",
       "...         ...        ...    ...    ...         ...           ...   \n",
       "550063  1006033  P00372445      M  51-55          13             B   \n",
       "550064  1006035  P00375436      F  26-35           1             C   \n",
       "550065  1006036  P00375436      F  26-35          15             B   \n",
       "550066  1006038  P00375436      F    55+           1             C   \n",
       "550067  1006039  P00371644      F  46-50           0             B   \n",
       "\n",
       "       Stay_In_Current_City_Years  Marital_Status  Product_Category  Purchase  \n",
       "0                               2               0                 3      8370  \n",
       "1                               2               0                 1     15200  \n",
       "2                               2               0                12      1422  \n",
       "3                               2               0                12      1057  \n",
       "4                              4+               0                 8      7969  \n",
       "...                           ...             ...               ...       ...  \n",
       "550063                          1               1                20       368  \n",
       "550064                          3               0                20       371  \n",
       "550065                         4+               1                20       137  \n",
       "550066                          2               0                20       365  \n",
       "550067                         4+               1                20       490  \n",
       "\n",
       "[550068 rows x 10 columns]"
      ]
     },
     "execution_count": 2,
     "metadata": {},
     "output_type": "execute_result"
    }
   ],
   "source": [
    "wm = pd.read_csv('walmart_data.csv')\n",
    "wm"
   ]
  },
  {
   "cell_type": "code",
   "execution_count": 7,
   "id": "51321fb5",
   "metadata": {},
   "outputs": [
    {
     "data": {
      "text/plain": [
       "(550068, 10)"
      ]
     },
     "execution_count": 7,
     "metadata": {},
     "output_type": "execute_result"
    }
   ],
   "source": [
    "wm.shape"
   ]
  },
  {
   "cell_type": "code",
   "execution_count": 8,
   "id": "6900d32b",
   "metadata": {},
   "outputs": [
    {
     "name": "stdout",
     "output_type": "stream",
     "text": [
      "<class 'pandas.core.frame.DataFrame'>\n",
      "RangeIndex: 550068 entries, 0 to 550067\n",
      "Data columns (total 10 columns):\n",
      " #   Column                      Non-Null Count   Dtype \n",
      "---  ------                      --------------   ----- \n",
      " 0   User_ID                     550068 non-null  int64 \n",
      " 1   Product_ID                  550068 non-null  object\n",
      " 2   Gender                      550068 non-null  object\n",
      " 3   Age                         550068 non-null  object\n",
      " 4   Occupation                  550068 non-null  int64 \n",
      " 5   City_Category               550068 non-null  object\n",
      " 6   Stay_In_Current_City_Years  550068 non-null  object\n",
      " 7   Marital_Status              550068 non-null  int64 \n",
      " 8   Product_Category            550068 non-null  int64 \n",
      " 9   Purchase                    550068 non-null  int64 \n",
      "dtypes: int64(5), object(5)\n",
      "memory usage: 42.0+ MB\n"
     ]
    }
   ],
   "source": [
    "wm.info()"
   ]
  },
  {
   "cell_type": "code",
   "execution_count": 9,
   "id": "99b2df1f",
   "metadata": {},
   "outputs": [
    {
     "data": {
      "text/html": [
       "<div>\n",
       "<style scoped>\n",
       "    .dataframe tbody tr th:only-of-type {\n",
       "        vertical-align: middle;\n",
       "    }\n",
       "\n",
       "    .dataframe tbody tr th {\n",
       "        vertical-align: top;\n",
       "    }\n",
       "\n",
       "    .dataframe thead th {\n",
       "        text-align: right;\n",
       "    }\n",
       "</style>\n",
       "<table border=\"1\" class=\"dataframe\">\n",
       "  <thead>\n",
       "    <tr style=\"text-align: right;\">\n",
       "      <th></th>\n",
       "      <th>User_ID</th>\n",
       "      <th>Occupation</th>\n",
       "      <th>Marital_Status</th>\n",
       "      <th>Product_Category</th>\n",
       "      <th>Purchase</th>\n",
       "    </tr>\n",
       "  </thead>\n",
       "  <tbody>\n",
       "    <tr>\n",
       "      <th>count</th>\n",
       "      <td>5.500680e+05</td>\n",
       "      <td>550068.000000</td>\n",
       "      <td>550068.000000</td>\n",
       "      <td>550068.000000</td>\n",
       "      <td>550068.000000</td>\n",
       "    </tr>\n",
       "    <tr>\n",
       "      <th>mean</th>\n",
       "      <td>1.003029e+06</td>\n",
       "      <td>8.076707</td>\n",
       "      <td>0.409653</td>\n",
       "      <td>5.404270</td>\n",
       "      <td>9263.968713</td>\n",
       "    </tr>\n",
       "    <tr>\n",
       "      <th>std</th>\n",
       "      <td>1.727592e+03</td>\n",
       "      <td>6.522660</td>\n",
       "      <td>0.491770</td>\n",
       "      <td>3.936211</td>\n",
       "      <td>5023.065394</td>\n",
       "    </tr>\n",
       "    <tr>\n",
       "      <th>min</th>\n",
       "      <td>1.000001e+06</td>\n",
       "      <td>0.000000</td>\n",
       "      <td>0.000000</td>\n",
       "      <td>1.000000</td>\n",
       "      <td>12.000000</td>\n",
       "    </tr>\n",
       "    <tr>\n",
       "      <th>25%</th>\n",
       "      <td>1.001516e+06</td>\n",
       "      <td>2.000000</td>\n",
       "      <td>0.000000</td>\n",
       "      <td>1.000000</td>\n",
       "      <td>5823.000000</td>\n",
       "    </tr>\n",
       "    <tr>\n",
       "      <th>50%</th>\n",
       "      <td>1.003077e+06</td>\n",
       "      <td>7.000000</td>\n",
       "      <td>0.000000</td>\n",
       "      <td>5.000000</td>\n",
       "      <td>8047.000000</td>\n",
       "    </tr>\n",
       "    <tr>\n",
       "      <th>75%</th>\n",
       "      <td>1.004478e+06</td>\n",
       "      <td>14.000000</td>\n",
       "      <td>1.000000</td>\n",
       "      <td>8.000000</td>\n",
       "      <td>12054.000000</td>\n",
       "    </tr>\n",
       "    <tr>\n",
       "      <th>max</th>\n",
       "      <td>1.006040e+06</td>\n",
       "      <td>20.000000</td>\n",
       "      <td>1.000000</td>\n",
       "      <td>20.000000</td>\n",
       "      <td>23961.000000</td>\n",
       "    </tr>\n",
       "  </tbody>\n",
       "</table>\n",
       "</div>"
      ],
      "text/plain": [
       "            User_ID     Occupation  Marital_Status  Product_Category  \\\n",
       "count  5.500680e+05  550068.000000   550068.000000     550068.000000   \n",
       "mean   1.003029e+06       8.076707        0.409653          5.404270   \n",
       "std    1.727592e+03       6.522660        0.491770          3.936211   \n",
       "min    1.000001e+06       0.000000        0.000000          1.000000   \n",
       "25%    1.001516e+06       2.000000        0.000000          1.000000   \n",
       "50%    1.003077e+06       7.000000        0.000000          5.000000   \n",
       "75%    1.004478e+06      14.000000        1.000000          8.000000   \n",
       "max    1.006040e+06      20.000000        1.000000         20.000000   \n",
       "\n",
       "            Purchase  \n",
       "count  550068.000000  \n",
       "mean     9263.968713  \n",
       "std      5023.065394  \n",
       "min        12.000000  \n",
       "25%      5823.000000  \n",
       "50%      8047.000000  \n",
       "75%     12054.000000  \n",
       "max     23961.000000  "
      ]
     },
     "execution_count": 9,
     "metadata": {},
     "output_type": "execute_result"
    }
   ],
   "source": [
    "wm.describe()"
   ]
  },
  {
   "cell_type": "code",
   "execution_count": 15,
   "id": "ad4161d3",
   "metadata": {},
   "outputs": [],
   "source": [
    "wm['Marital_Status']=wm.Marital_Status.astype('category')"
   ]
  },
  {
   "cell_type": "code",
   "execution_count": 17,
   "id": "8c602a44",
   "metadata": {},
   "outputs": [
    {
     "name": "stdout",
     "output_type": "stream",
     "text": [
      "<class 'pandas.core.frame.DataFrame'>\n",
      "RangeIndex: 550068 entries, 0 to 550067\n",
      "Data columns (total 10 columns):\n",
      " #   Column                      Non-Null Count   Dtype   \n",
      "---  ------                      --------------   -----   \n",
      " 0   User_ID                     550068 non-null  int64   \n",
      " 1   Product_ID                  550068 non-null  object  \n",
      " 2   Gender                      550068 non-null  object  \n",
      " 3   Age                         550068 non-null  object  \n",
      " 4   Occupation                  550068 non-null  int64   \n",
      " 5   City_Category               550068 non-null  object  \n",
      " 6   Stay_In_Current_City_Years  550068 non-null  object  \n",
      " 7   Marital_Status              550068 non-null  category\n",
      " 8   Product_Category            550068 non-null  int64   \n",
      " 9   Purchase                    550068 non-null  int64   \n",
      "dtypes: category(1), int64(4), object(5)\n",
      "memory usage: 38.3+ MB\n"
     ]
    }
   ],
   "source": [
    "wm.info()"
   ]
  },
  {
   "cell_type": "markdown",
   "id": "36f5aa8e",
   "metadata": {},
   "source": [
    "#### Outlier check"
   ]
  },
  {
   "cell_type": "code",
   "execution_count": 20,
   "id": "92982450",
   "metadata": {},
   "outputs": [
    {
     "data": {
      "text/html": [
       "<div>\n",
       "<style scoped>\n",
       "    .dataframe tbody tr th:only-of-type {\n",
       "        vertical-align: middle;\n",
       "    }\n",
       "\n",
       "    .dataframe tbody tr th {\n",
       "        vertical-align: top;\n",
       "    }\n",
       "\n",
       "    .dataframe thead th {\n",
       "        text-align: right;\n",
       "    }\n",
       "</style>\n",
       "<table border=\"1\" class=\"dataframe\">\n",
       "  <thead>\n",
       "    <tr style=\"text-align: right;\">\n",
       "      <th></th>\n",
       "      <th>User_ID</th>\n",
       "      <th>Occupation</th>\n",
       "      <th>Product_Category</th>\n",
       "      <th>Purchase</th>\n",
       "    </tr>\n",
       "  </thead>\n",
       "  <tbody>\n",
       "    <tr>\n",
       "      <th>count</th>\n",
       "      <td>5.500680e+05</td>\n",
       "      <td>550068.000000</td>\n",
       "      <td>550068.000000</td>\n",
       "      <td>550068.000000</td>\n",
       "    </tr>\n",
       "    <tr>\n",
       "      <th>mean</th>\n",
       "      <td>1.003029e+06</td>\n",
       "      <td>8.076707</td>\n",
       "      <td>5.404270</td>\n",
       "      <td>9263.968713</td>\n",
       "    </tr>\n",
       "    <tr>\n",
       "      <th>std</th>\n",
       "      <td>1.727592e+03</td>\n",
       "      <td>6.522660</td>\n",
       "      <td>3.936211</td>\n",
       "      <td>5023.065394</td>\n",
       "    </tr>\n",
       "    <tr>\n",
       "      <th>min</th>\n",
       "      <td>1.000001e+06</td>\n",
       "      <td>0.000000</td>\n",
       "      <td>1.000000</td>\n",
       "      <td>12.000000</td>\n",
       "    </tr>\n",
       "    <tr>\n",
       "      <th>25%</th>\n",
       "      <td>1.001516e+06</td>\n",
       "      <td>2.000000</td>\n",
       "      <td>1.000000</td>\n",
       "      <td>5823.000000</td>\n",
       "    </tr>\n",
       "    <tr>\n",
       "      <th>50%</th>\n",
       "      <td>1.003077e+06</td>\n",
       "      <td>7.000000</td>\n",
       "      <td>5.000000</td>\n",
       "      <td>8047.000000</td>\n",
       "    </tr>\n",
       "    <tr>\n",
       "      <th>75%</th>\n",
       "      <td>1.004478e+06</td>\n",
       "      <td>14.000000</td>\n",
       "      <td>8.000000</td>\n",
       "      <td>12054.000000</td>\n",
       "    </tr>\n",
       "    <tr>\n",
       "      <th>max</th>\n",
       "      <td>1.006040e+06</td>\n",
       "      <td>20.000000</td>\n",
       "      <td>20.000000</td>\n",
       "      <td>23961.000000</td>\n",
       "    </tr>\n",
       "  </tbody>\n",
       "</table>\n",
       "</div>"
      ],
      "text/plain": [
       "            User_ID     Occupation  Product_Category       Purchase\n",
       "count  5.500680e+05  550068.000000     550068.000000  550068.000000\n",
       "mean   1.003029e+06       8.076707          5.404270    9263.968713\n",
       "std    1.727592e+03       6.522660          3.936211    5023.065394\n",
       "min    1.000001e+06       0.000000          1.000000      12.000000\n",
       "25%    1.001516e+06       2.000000          1.000000    5823.000000\n",
       "50%    1.003077e+06       7.000000          5.000000    8047.000000\n",
       "75%    1.004478e+06      14.000000          8.000000   12054.000000\n",
       "max    1.006040e+06      20.000000         20.000000   23961.000000"
      ]
     },
     "execution_count": 20,
     "metadata": {},
     "output_type": "execute_result"
    }
   ],
   "source": [
    "wm.describe()"
   ]
  },
  {
   "cell_type": "code",
   "execution_count": 18,
   "id": "40925b65",
   "metadata": {},
   "outputs": [
    {
     "data": {
      "text/plain": [
       "<AxesSubplot:xlabel='Purchase'>"
      ]
     },
     "execution_count": 18,
     "metadata": {},
     "output_type": "execute_result"
    },
    {
     "data": {
      "image/png": "[encoded data removed]",
      "text/plain": [
       "<Figure size 432x288 with 1 Axes>"
      ]
     },
     "metadata": {
      "needs_background": "light"
     },
     "output_type": "display_data"
    }
   ],
   "source": [
    "sns.boxplot(x='Purchase',data=wm)"
   ]
  },
  {
   "cell_type": "code",
   "execution_count": 33,
   "id": "ca790d9f",
   "metadata": {},
   "outputs": [
    {
     "data": {
      "text/html": [
       "<div>\n",
       "<style scoped>\n",
       "    .dataframe tbody tr th:only-of-type {\n",
       "        vertical-align: middle;\n",
       "    }\n",
       "\n",
       "    .dataframe tbody tr th {\n",
       "        vertical-align: top;\n",
       "    }\n",
       "\n",
       "    .dataframe thead th {\n",
       "        text-align: right;\n",
       "    }\n",
       "</style>\n",
       "<table border=\"1\" class=\"dataframe\">\n",
       "  <thead>\n",
       "    <tr style=\"text-align: right;\">\n",
       "      <th></th>\n",
       "      <th>User_ID</th>\n",
       "      <th>Product_ID</th>\n",
       "      <th>Gender</th>\n",
       "      <th>Age</th>\n",
       "      <th>Occupation</th>\n",
       "      <th>City_Category</th>\n",
       "      <th>Stay_In_Current_City_Years</th>\n",
       "      <th>Marital_Status</th>\n",
       "      <th>Product_Category</th>\n",
       "      <th>Purchase</th>\n",
       "    </tr>\n",
       "  </thead>\n",
       "  <tbody>\n",
       "    <tr>\n",
       "      <th>343</th>\n",
       "      <td>1000058</td>\n",
       "      <td>P00117642</td>\n",
       "      <td>M</td>\n",
       "      <td>26-35</td>\n",
       "      <td>2</td>\n",
       "      <td>B</td>\n",
       "      <td>3</td>\n",
       "      <td>0</td>\n",
       "      <td>10</td>\n",
       "      <td>23603</td>\n",
       "    </tr>\n",
       "    <tr>\n",
       "      <th>375</th>\n",
       "      <td>1000062</td>\n",
       "      <td>P00119342</td>\n",
       "      <td>F</td>\n",
       "      <td>36-45</td>\n",
       "      <td>3</td>\n",
       "      <td>A</td>\n",
       "      <td>1</td>\n",
       "      <td>0</td>\n",
       "      <td>10</td>\n",
       "      <td>23792</td>\n",
       "    </tr>\n",
       "    <tr>\n",
       "      <th>652</th>\n",
       "      <td>1000126</td>\n",
       "      <td>P00087042</td>\n",
       "      <td>M</td>\n",
       "      <td>18-25</td>\n",
       "      <td>9</td>\n",
       "      <td>B</td>\n",
       "      <td>1</td>\n",
       "      <td>0</td>\n",
       "      <td>10</td>\n",
       "      <td>23233</td>\n",
       "    </tr>\n",
       "    <tr>\n",
       "      <th>736</th>\n",
       "      <td>1000139</td>\n",
       "      <td>P00159542</td>\n",
       "      <td>F</td>\n",
       "      <td>26-35</td>\n",
       "      <td>20</td>\n",
       "      <td>C</td>\n",
       "      <td>2</td>\n",
       "      <td>0</td>\n",
       "      <td>10</td>\n",
       "      <td>23595</td>\n",
       "    </tr>\n",
       "    <tr>\n",
       "      <th>1041</th>\n",
       "      <td>1000175</td>\n",
       "      <td>P00052842</td>\n",
       "      <td>F</td>\n",
       "      <td>26-35</td>\n",
       "      <td>2</td>\n",
       "      <td>B</td>\n",
       "      <td>1</td>\n",
       "      <td>0</td>\n",
       "      <td>10</td>\n",
       "      <td>23341</td>\n",
       "    </tr>\n",
       "    <tr>\n",
       "      <th>...</th>\n",
       "      <td>...</td>\n",
       "      <td>...</td>\n",
       "      <td>...</td>\n",
       "      <td>...</td>\n",
       "      <td>...</td>\n",
       "      <td>...</td>\n",
       "      <td>...</td>\n",
       "      <td>...</td>\n",
       "      <td>...</td>\n",
       "      <td>...</td>\n",
       "    </tr>\n",
       "    <tr>\n",
       "      <th>544488</th>\n",
       "      <td>1005815</td>\n",
       "      <td>P00116142</td>\n",
       "      <td>M</td>\n",
       "      <td>26-35</td>\n",
       "      <td>20</td>\n",
       "      <td>B</td>\n",
       "      <td>1</td>\n",
       "      <td>0</td>\n",
       "      <td>10</td>\n",
       "      <td>23753</td>\n",
       "    </tr>\n",
       "    <tr>\n",
       "      <th>544704</th>\n",
       "      <td>1005847</td>\n",
       "      <td>P00085342</td>\n",
       "      <td>F</td>\n",
       "      <td>18-25</td>\n",
       "      <td>4</td>\n",
       "      <td>B</td>\n",
       "      <td>2</td>\n",
       "      <td>0</td>\n",
       "      <td>10</td>\n",
       "      <td>23724</td>\n",
       "    </tr>\n",
       "    <tr>\n",
       "      <th>544743</th>\n",
       "      <td>1005852</td>\n",
       "      <td>P00202242</td>\n",
       "      <td>F</td>\n",
       "      <td>26-35</td>\n",
       "      <td>1</td>\n",
       "      <td>A</td>\n",
       "      <td>0</td>\n",
       "      <td>1</td>\n",
       "      <td>10</td>\n",
       "      <td>23529</td>\n",
       "    </tr>\n",
       "    <tr>\n",
       "      <th>545663</th>\n",
       "      <td>1006002</td>\n",
       "      <td>P00116142</td>\n",
       "      <td>M</td>\n",
       "      <td>51-55</td>\n",
       "      <td>0</td>\n",
       "      <td>C</td>\n",
       "      <td>1</td>\n",
       "      <td>1</td>\n",
       "      <td>10</td>\n",
       "      <td>23663</td>\n",
       "    </tr>\n",
       "    <tr>\n",
       "      <th>545787</th>\n",
       "      <td>1006018</td>\n",
       "      <td>P00052842</td>\n",
       "      <td>M</td>\n",
       "      <td>36-45</td>\n",
       "      <td>1</td>\n",
       "      <td>C</td>\n",
       "      <td>3</td>\n",
       "      <td>0</td>\n",
       "      <td>10</td>\n",
       "      <td>23496</td>\n",
       "    </tr>\n",
       "  </tbody>\n",
       "</table>\n",
       "<p>2677 rows × 10 columns</p>\n",
       "</div>"
      ],
      "text/plain": [
       "        User_ID Product_ID Gender    Age  Occupation City_Category  \\\n",
       "343     1000058  P00117642      M  26-35           2             B   \n",
       "375     1000062  P00119342      F  36-45           3             A   \n",
       "652     1000126  P00087042      M  18-25           9             B   \n",
       "736     1000139  P00159542      F  26-35          20             C   \n",
       "1041    1000175  P00052842      F  26-35           2             B   \n",
       "...         ...        ...    ...    ...         ...           ...   \n",
       "544488  1005815  P00116142      M  26-35          20             B   \n",
       "544704  1005847  P00085342      F  18-25           4             B   \n",
       "544743  1005852  P00202242      F  26-35           1             A   \n",
       "545663  1006002  P00116142      M  51-55           0             C   \n",
       "545787  1006018  P00052842      M  36-45           1             C   \n",
       "\n",
       "       Stay_In_Current_City_Years Marital_Status  Product_Category  Purchase  \n",
       "343                             3              0                10     23603  \n",
       "375                             1              0                10     23792  \n",
       "652                             1              0                10     23233  \n",
       "736                             2              0                10     23595  \n",
       "1041                            1              0                10     23341  \n",
       "...                           ...            ...               ...       ...  \n",
       "544488                          1              0                10     23753  \n",
       "544704                          2              0                10     23724  \n",
       "544743                          0              1                10     23529  \n",
       "545663                          1              1                10     23663  \n",
       "545787                          3              0                10     23496  \n",
       "\n",
       "[2677 rows x 10 columns]"
      ]
     },
     "execution_count": 33,
     "metadata": {},
     "output_type": "execute_result"
    }
   ],
   "source": [
    "q1 = wm['Purchase'].quantile(0.25)\n",
    "q3 = wm['Purchase'].quantile(0.75)\n",
    "iqr = q3-q1\n",
    "left_whisker = q1 - (1.5*iqr)\n",
    "right_whisker = q3 + (1.5*iqr)\n",
    "purchase_ouliers = wm[(wm['Purchase']<left_whisker)|(wm['Purchase']>right_whisker)]\n",
    "purchase_ouliers"
   ]
  },
  {
   "cell_type": "code",
   "execution_count": 34,
   "id": "5128f503",
   "metadata": {},
   "outputs": [
    {
     "data": {
      "text/plain": [
       "1216.9687129591257"
      ]
     },
     "execution_count": 34,
     "metadata": {},
     "output_type": "execute_result"
    }
   ],
   "source": [
    "#the difference between mean and median value of Purchase \n",
    "wm['Purchase'].mean() - wm['Purchase'].median()"
   ]
  },
  {
   "cell_type": "markdown",
   "id": "1da21301",
   "metadata": {},
   "source": [
    "##### Insights\n",
    "1. Quartiles : 50 percent of customer spends 8000, 25percent of customer spends <= 5823 and 75 percent of customer spends <= 12000\n",
    "2. Ouliers based on amount spent : 2677 out of 550068 customers are spending more than 21000\n",
    "3. The average amount spent is 9263, the mean value here is affected by outlier\n",
    "4. Based on below box plots there is no much difference in amount spent by males/females also based on their age group"
   ]
  },
  {
   "cell_type": "code",
   "execution_count": 38,
   "id": "0536d82e",
   "metadata": {},
   "outputs": [
    {
     "data": {
      "text/plain": [
       "<AxesSubplot:xlabel='Purchase', ylabel='Gender'>"
      ]
     },
     "execution_count": 38,
     "metadata": {},
     "output_type": "execute_result"
    },
    {
     "data": {
      "image/png": "[encoded data removed]",
      "text/plain": [
       "<Figure size 432x288 with 1 Axes>"
      ]
     },
     "metadata": {
      "needs_background": "light"
     },
     "output_type": "display_data"
    }
   ],
   "source": [
    "#Box plot on basis of Gender for Purchase\n",
    "sns.boxplot(x='Purchase',y='Gender',data=wm)"
   ]
  },
  {
   "cell_type": "code",
   "execution_count": 41,
   "id": "14573cf7",
   "metadata": {},
   "outputs": [
    {
     "data": {
      "text/plain": [
       "<AxesSubplot:xlabel='Purchase', ylabel='Age'>"
      ]
     },
     "execution_count": 41,
     "metadata": {},
     "output_type": "execute_result"
    },
    {
     "data": {
      "image/png": "[encoded data removed]",
      "text/plain": [
       "<Figure size 432x288 with 1 Axes>"
      ]
     },
     "metadata": {
      "needs_background": "light"
     },
     "output_type": "display_data"
    }
   ],
   "source": [
    "#Box plot on basis of Age for Purchase\n",
    "sns.boxplot(x='Purchase',y='Age',data=wm)"
   ]
  },
  {
   "cell_type": "code",
   "execution_count": 62,
   "id": "302eead4",
   "metadata": {},
   "outputs": [
    {
     "data": {
      "text/plain": [
       "<matplotlib.legend.Legend at 0x22223649760>"
      ]
     },
     "execution_count": 62,
     "metadata": {},
     "output_type": "execute_result"
    },
    {
     "data": {
      "image/png": "[encoded data removed]",
      "text/plain": [
       "<Figure size 720x576 with 1 Axes>"
      ]
     },
     "metadata": {
      "needs_background": "light"
     },
     "output_type": "display_data"
    }
   ],
   "source": [
    "#Box plot on basis of Age and Gender for Purchase\n",
    "plt.figure(figsize=(10,8))\n",
    "sns.boxplot(x='Purchase',y='Age', hue='Gender',data=wm)\n",
    "plt.legend(loc='upper right')"
   ]
  },
  {
   "cell_type": "markdown",
   "id": "87e4c4f1",
   "metadata": {},
   "source": [
    "#### Non graphical analysis"
   ]
  },
  {
   "cell_type": "code",
   "execution_count": 63,
   "id": "b296a311",
   "metadata": {},
   "outputs": [
    {
     "data": {
      "text/html": [
       "<div>\n",
       "<style scoped>\n",
       "    .dataframe tbody tr th:only-of-type {\n",
       "        vertical-align: middle;\n",
       "    }\n",
       "\n",
       "    .dataframe tbody tr th {\n",
       "        vertical-align: top;\n",
       "    }\n",
       "\n",
       "    .dataframe thead th {\n",
       "        text-align: right;\n",
       "    }\n",
       "</style>\n",
       "<table border=\"1\" class=\"dataframe\">\n",
       "  <thead>\n",
       "    <tr style=\"text-align: right;\">\n",
       "      <th></th>\n",
       "      <th>mean</th>\n",
       "      <th>median</th>\n",
       "      <th>min</th>\n",
       "      <th>max</th>\n",
       "    </tr>\n",
       "    <tr>\n",
       "      <th>Gender</th>\n",
       "      <th></th>\n",
       "      <th></th>\n",
       "      <th></th>\n",
       "      <th></th>\n",
       "    </tr>\n",
       "  </thead>\n",
       "  <tbody>\n",
       "    <tr>\n",
       "      <th>F</th>\n",
       "      <td>8734.565765</td>\n",
       "      <td>7914.0</td>\n",
       "      <td>12</td>\n",
       "      <td>23959</td>\n",
       "    </tr>\n",
       "    <tr>\n",
       "      <th>M</th>\n",
       "      <td>9437.526040</td>\n",
       "      <td>8098.0</td>\n",
       "      <td>12</td>\n",
       "      <td>23961</td>\n",
       "    </tr>\n",
       "  </tbody>\n",
       "</table>\n",
       "</div>"
      ],
      "text/plain": [
       "               mean  median  min    max\n",
       "Gender                                 \n",
       "F       8734.565765  7914.0   12  23959\n",
       "M       9437.526040  8098.0   12  23961"
      ]
     },
     "execution_count": 63,
     "metadata": {},
     "output_type": "execute_result"
    }
   ],
   "source": [
    "wm.groupby('Gender')['Purchase'].agg(['mean','median','min','max'])"
   ]
  },
  {
   "cell_type": "code",
   "execution_count": 67,
   "id": "acdcc96a",
   "metadata": {},
   "outputs": [
    {
     "data": {
      "text/html": [
       "<div>\n",
       "<style scoped>\n",
       "    .dataframe tbody tr th:only-of-type {\n",
       "        vertical-align: middle;\n",
       "    }\n",
       "\n",
       "    .dataframe tbody tr th {\n",
       "        vertical-align: top;\n",
       "    }\n",
       "\n",
       "    .dataframe thead th {\n",
       "        text-align: right;\n",
       "    }\n",
       "</style>\n",
       "<table border=\"1\" class=\"dataframe\">\n",
       "  <thead>\n",
       "    <tr style=\"text-align: right;\">\n",
       "      <th></th>\n",
       "      <th></th>\n",
       "      <th>mean</th>\n",
       "      <th>median</th>\n",
       "      <th>min</th>\n",
       "      <th>max</th>\n",
       "    </tr>\n",
       "    <tr>\n",
       "      <th>Gender</th>\n",
       "      <th>Age</th>\n",
       "      <th></th>\n",
       "      <th></th>\n",
       "      <th></th>\n",
       "      <th></th>\n",
       "    </tr>\n",
       "  </thead>\n",
       "  <tbody>\n",
       "    <tr>\n",
       "      <th rowspan=\"7\" valign=\"top\">F</th>\n",
       "      <th>0-17</th>\n",
       "      <td>8338.771985</td>\n",
       "      <td>7824.0</td>\n",
       "      <td>12</td>\n",
       "      <td>23866</td>\n",
       "    </tr>\n",
       "    <tr>\n",
       "      <th>18-25</th>\n",
       "      <td>8343.180201</td>\n",
       "      <td>7731.0</td>\n",
       "      <td>12</td>\n",
       "      <td>23936</td>\n",
       "    </tr>\n",
       "    <tr>\n",
       "      <th>26-35</th>\n",
       "      <td>8728.251754</td>\n",
       "      <td>7886.0</td>\n",
       "      <td>12</td>\n",
       "      <td>23955</td>\n",
       "    </tr>\n",
       "    <tr>\n",
       "      <th>36-45</th>\n",
       "      <td>8959.844056</td>\n",
       "      <td>7984.0</td>\n",
       "      <td>12</td>\n",
       "      <td>23948</td>\n",
       "    </tr>\n",
       "    <tr>\n",
       "      <th>46-50</th>\n",
       "      <td>8842.098947</td>\n",
       "      <td>7957.0</td>\n",
       "      <td>12</td>\n",
       "      <td>23920</td>\n",
       "    </tr>\n",
       "    <tr>\n",
       "      <th>51-55</th>\n",
       "      <td>9042.449666</td>\n",
       "      <td>8002.0</td>\n",
       "      <td>12</td>\n",
       "      <td>23959</td>\n",
       "    </tr>\n",
       "    <tr>\n",
       "      <th>55+</th>\n",
       "      <td>9007.036199</td>\n",
       "      <td>8084.0</td>\n",
       "      <td>12</td>\n",
       "      <td>23899</td>\n",
       "    </tr>\n",
       "    <tr>\n",
       "      <th rowspan=\"7\" valign=\"top\">M</th>\n",
       "      <th>0-17</th>\n",
       "      <td>9235.173670</td>\n",
       "      <td>8080.0</td>\n",
       "      <td>12</td>\n",
       "      <td>23955</td>\n",
       "    </tr>\n",
       "    <tr>\n",
       "      <th>18-25</th>\n",
       "      <td>9440.942971</td>\n",
       "      <td>8119.0</td>\n",
       "      <td>12</td>\n",
       "      <td>23958</td>\n",
       "    </tr>\n",
       "    <tr>\n",
       "      <th>26-35</th>\n",
       "      <td>9410.337578</td>\n",
       "      <td>8082.0</td>\n",
       "      <td>12</td>\n",
       "      <td>23961</td>\n",
       "    </tr>\n",
       "    <tr>\n",
       "      <th>36-45</th>\n",
       "      <td>9453.193643</td>\n",
       "      <td>8092.0</td>\n",
       "      <td>12</td>\n",
       "      <td>23960</td>\n",
       "    </tr>\n",
       "    <tr>\n",
       "      <th>46-50</th>\n",
       "      <td>9357.471509</td>\n",
       "      <td>8074.5</td>\n",
       "      <td>12</td>\n",
       "      <td>23960</td>\n",
       "    </tr>\n",
       "    <tr>\n",
       "      <th>51-55</th>\n",
       "      <td>9705.094802</td>\n",
       "      <td>8398.0</td>\n",
       "      <td>12</td>\n",
       "      <td>23960</td>\n",
       "    </tr>\n",
       "    <tr>\n",
       "      <th>55+</th>\n",
       "      <td>9438.195603</td>\n",
       "      <td>8115.0</td>\n",
       "      <td>12</td>\n",
       "      <td>23960</td>\n",
       "    </tr>\n",
       "  </tbody>\n",
       "</table>\n",
       "</div>"
      ],
      "text/plain": [
       "                     mean  median  min    max\n",
       "Gender Age                                   \n",
       "F      0-17   8338.771985  7824.0   12  23866\n",
       "       18-25  8343.180201  7731.0   12  23936\n",
       "       26-35  8728.251754  7886.0   12  23955\n",
       "       36-45  8959.844056  7984.0   12  23948\n",
       "       46-50  8842.098947  7957.0   12  23920\n",
       "       51-55  9042.449666  8002.0   12  23959\n",
       "       55+    9007.036199  8084.0   12  23899\n",
       "M      0-17   9235.173670  8080.0   12  23955\n",
       "       18-25  9440.942971  8119.0   12  23958\n",
       "       26-35  9410.337578  8082.0   12  23961\n",
       "       36-45  9453.193643  8092.0   12  23960\n",
       "       46-50  9357.471509  8074.5   12  23960\n",
       "       51-55  9705.094802  8398.0   12  23960\n",
       "       55+    9438.195603  8115.0   12  23960"
      ]
     },
     "execution_count": 67,
     "metadata": {},
     "output_type": "execute_result"
    }
   ],
   "source": [
    "wm.groupby(['Gender','Age'])['Purchase'].agg(['mean','median','min','max'])"
   ]
  },
  {
   "cell_type": "code",
   "execution_count": 72,
   "id": "a3e1d8ab",
   "metadata": {},
   "outputs": [
    {
     "data": {
      "text/html": [
       "<div>\n",
       "<style scoped>\n",
       "    .dataframe tbody tr th:only-of-type {\n",
       "        vertical-align: middle;\n",
       "    }\n",
       "\n",
       "    .dataframe tbody tr th {\n",
       "        vertical-align: top;\n",
       "    }\n",
       "\n",
       "    .dataframe thead th {\n",
       "        text-align: right;\n",
       "    }\n",
       "</style>\n",
       "<table border=\"1\" class=\"dataframe\">\n",
       "  <thead>\n",
       "    <tr style=\"text-align: right;\">\n",
       "      <th></th>\n",
       "      <th></th>\n",
       "      <th>mean</th>\n",
       "      <th>median</th>\n",
       "      <th>min</th>\n",
       "      <th>max</th>\n",
       "      <th>count</th>\n",
       "    </tr>\n",
       "    <tr>\n",
       "      <th>Gender</th>\n",
       "      <th>Age</th>\n",
       "      <th></th>\n",
       "      <th></th>\n",
       "      <th></th>\n",
       "      <th></th>\n",
       "      <th></th>\n",
       "    </tr>\n",
       "  </thead>\n",
       "  <tbody>\n",
       "    <tr>\n",
       "      <th rowspan=\"7\" valign=\"top\">F</th>\n",
       "      <th>0-17</th>\n",
       "      <td>8338.771985</td>\n",
       "      <td>7824.0</td>\n",
       "      <td>12</td>\n",
       "      <td>23866</td>\n",
       "      <td>5083</td>\n",
       "    </tr>\n",
       "    <tr>\n",
       "      <th>18-25</th>\n",
       "      <td>8343.180201</td>\n",
       "      <td>7731.0</td>\n",
       "      <td>12</td>\n",
       "      <td>23936</td>\n",
       "      <td>24628</td>\n",
       "    </tr>\n",
       "    <tr>\n",
       "      <th>26-35</th>\n",
       "      <td>8728.251754</td>\n",
       "      <td>7886.0</td>\n",
       "      <td>12</td>\n",
       "      <td>23955</td>\n",
       "      <td>50752</td>\n",
       "    </tr>\n",
       "    <tr>\n",
       "      <th>36-45</th>\n",
       "      <td>8959.844056</td>\n",
       "      <td>7984.0</td>\n",
       "      <td>12</td>\n",
       "      <td>23948</td>\n",
       "      <td>27170</td>\n",
       "    </tr>\n",
       "    <tr>\n",
       "      <th>46-50</th>\n",
       "      <td>8842.098947</td>\n",
       "      <td>7957.0</td>\n",
       "      <td>12</td>\n",
       "      <td>23920</td>\n",
       "      <td>13199</td>\n",
       "    </tr>\n",
       "    <tr>\n",
       "      <th>51-55</th>\n",
       "      <td>9042.449666</td>\n",
       "      <td>8002.0</td>\n",
       "      <td>12</td>\n",
       "      <td>23959</td>\n",
       "      <td>9894</td>\n",
       "    </tr>\n",
       "    <tr>\n",
       "      <th>55+</th>\n",
       "      <td>9007.036199</td>\n",
       "      <td>8084.0</td>\n",
       "      <td>12</td>\n",
       "      <td>23899</td>\n",
       "      <td>5083</td>\n",
       "    </tr>\n",
       "    <tr>\n",
       "      <th rowspan=\"7\" valign=\"top\">M</th>\n",
       "      <th>0-17</th>\n",
       "      <td>9235.173670</td>\n",
       "      <td>8080.0</td>\n",
       "      <td>12</td>\n",
       "      <td>23955</td>\n",
       "      <td>10019</td>\n",
       "    </tr>\n",
       "    <tr>\n",
       "      <th>18-25</th>\n",
       "      <td>9440.942971</td>\n",
       "      <td>8119.0</td>\n",
       "      <td>12</td>\n",
       "      <td>23958</td>\n",
       "      <td>75032</td>\n",
       "    </tr>\n",
       "    <tr>\n",
       "      <th>26-35</th>\n",
       "      <td>9410.337578</td>\n",
       "      <td>8082.0</td>\n",
       "      <td>12</td>\n",
       "      <td>23961</td>\n",
       "      <td>168835</td>\n",
       "    </tr>\n",
       "    <tr>\n",
       "      <th>36-45</th>\n",
       "      <td>9453.193643</td>\n",
       "      <td>8092.0</td>\n",
       "      <td>12</td>\n",
       "      <td>23960</td>\n",
       "      <td>82843</td>\n",
       "    </tr>\n",
       "    <tr>\n",
       "      <th>46-50</th>\n",
       "      <td>9357.471509</td>\n",
       "      <td>8074.5</td>\n",
       "      <td>12</td>\n",
       "      <td>23960</td>\n",
       "      <td>32502</td>\n",
       "    </tr>\n",
       "    <tr>\n",
       "      <th>51-55</th>\n",
       "      <td>9705.094802</td>\n",
       "      <td>8398.0</td>\n",
       "      <td>12</td>\n",
       "      <td>23960</td>\n",
       "      <td>28607</td>\n",
       "    </tr>\n",
       "    <tr>\n",
       "      <th>55+</th>\n",
       "      <td>9438.195603</td>\n",
       "      <td>8115.0</td>\n",
       "      <td>12</td>\n",
       "      <td>23960</td>\n",
       "      <td>16421</td>\n",
       "    </tr>\n",
       "  </tbody>\n",
       "</table>\n",
       "</div>"
      ],
      "text/plain": [
       "                     mean  median  min    max   count\n",
       "Gender Age                                           \n",
       "F      0-17   8338.771985  7824.0   12  23866    5083\n",
       "       18-25  8343.180201  7731.0   12  23936   24628\n",
       "       26-35  8728.251754  7886.0   12  23955   50752\n",
       "       36-45  8959.844056  7984.0   12  23948   27170\n",
       "       46-50  8842.098947  7957.0   12  23920   13199\n",
       "       51-55  9042.449666  8002.0   12  23959    9894\n",
       "       55+    9007.036199  8084.0   12  23899    5083\n",
       "M      0-17   9235.173670  8080.0   12  23955   10019\n",
       "       18-25  9440.942971  8119.0   12  23958   75032\n",
       "       26-35  9410.337578  8082.0   12  23961  168835\n",
       "       36-45  9453.193643  8092.0   12  23960   82843\n",
       "       46-50  9357.471509  8074.5   12  23960   32502\n",
       "       51-55  9705.094802  8398.0   12  23960   28607\n",
       "       55+    9438.195603  8115.0   12  23960   16421"
      ]
     },
     "execution_count": 72,
     "metadata": {},
     "output_type": "execute_result"
    }
   ],
   "source": [
    "wm.groupby(['Gender','Age'])['Purchase'].agg(['mean','median','min','max','count'])"
   ]
  },
  {
   "cell_type": "code",
   "execution_count": 75,
   "id": "bbb6dfd2",
   "metadata": {},
   "outputs": [
    {
     "data": {
      "text/html": [
       "<div>\n",
       "<style scoped>\n",
       "    .dataframe tbody tr th:only-of-type {\n",
       "        vertical-align: middle;\n",
       "    }\n",
       "\n",
       "    .dataframe tbody tr th {\n",
       "        vertical-align: top;\n",
       "    }\n",
       "\n",
       "    .dataframe thead th {\n",
       "        text-align: right;\n",
       "    }\n",
       "</style>\n",
       "<table border=\"1\" class=\"dataframe\">\n",
       "  <thead>\n",
       "    <tr style=\"text-align: right;\">\n",
       "      <th></th>\n",
       "      <th>mean</th>\n",
       "      <th>median</th>\n",
       "      <th>min</th>\n",
       "      <th>max</th>\n",
       "    </tr>\n",
       "    <tr>\n",
       "      <th>Marital_Status</th>\n",
       "      <th></th>\n",
       "      <th></th>\n",
       "      <th></th>\n",
       "      <th></th>\n",
       "    </tr>\n",
       "  </thead>\n",
       "  <tbody>\n",
       "    <tr>\n",
       "      <th>0</th>\n",
       "      <td>9265.907619</td>\n",
       "      <td>8044.0</td>\n",
       "      <td>12</td>\n",
       "      <td>23961</td>\n",
       "    </tr>\n",
       "    <tr>\n",
       "      <th>1</th>\n",
       "      <td>9261.174574</td>\n",
       "      <td>8051.0</td>\n",
       "      <td>12</td>\n",
       "      <td>23961</td>\n",
       "    </tr>\n",
       "  </tbody>\n",
       "</table>\n",
       "</div>"
      ],
      "text/plain": [
       "                       mean  median  min    max\n",
       "Marital_Status                                 \n",
       "0               9265.907619  8044.0   12  23961\n",
       "1               9261.174574  8051.0   12  23961"
      ]
     },
     "execution_count": 75,
     "metadata": {},
     "output_type": "execute_result"
    }
   ],
   "source": [
    "wm.groupby('Marital_Status')['Purchase'].agg(['mean','median','min','max'])"
   ]
  },
  {
   "cell_type": "code",
   "execution_count": 76,
   "id": "52cb99c6",
   "metadata": {},
   "outputs": [
    {
     "data": {
      "text/html": [
       "<div>\n",
       "<style scoped>\n",
       "    .dataframe tbody tr th:only-of-type {\n",
       "        vertical-align: middle;\n",
       "    }\n",
       "\n",
       "    .dataframe tbody tr th {\n",
       "        vertical-align: top;\n",
       "    }\n",
       "\n",
       "    .dataframe thead th {\n",
       "        text-align: right;\n",
       "    }\n",
       "</style>\n",
       "<table border=\"1\" class=\"dataframe\">\n",
       "  <thead>\n",
       "    <tr style=\"text-align: right;\">\n",
       "      <th></th>\n",
       "      <th></th>\n",
       "      <th>mean</th>\n",
       "      <th>median</th>\n",
       "      <th>min</th>\n",
       "      <th>max</th>\n",
       "    </tr>\n",
       "    <tr>\n",
       "      <th>Gender</th>\n",
       "      <th>Marital_Status</th>\n",
       "      <th></th>\n",
       "      <th></th>\n",
       "      <th></th>\n",
       "      <th></th>\n",
       "    </tr>\n",
       "  </thead>\n",
       "  <tbody>\n",
       "    <tr>\n",
       "      <th rowspan=\"2\" valign=\"top\">F</th>\n",
       "      <th>0</th>\n",
       "      <td>8679.845815</td>\n",
       "      <td>7895.0</td>\n",
       "      <td>12</td>\n",
       "      <td>23955</td>\n",
       "    </tr>\n",
       "    <tr>\n",
       "      <th>1</th>\n",
       "      <td>8810.249789</td>\n",
       "      <td>7939.0</td>\n",
       "      <td>12</td>\n",
       "      <td>23959</td>\n",
       "    </tr>\n",
       "    <tr>\n",
       "      <th rowspan=\"2\" valign=\"top\">M</th>\n",
       "      <th>0</th>\n",
       "      <td>9453.756740</td>\n",
       "      <td>8101.0</td>\n",
       "      <td>12</td>\n",
       "      <td>23961</td>\n",
       "    </tr>\n",
       "    <tr>\n",
       "      <th>1</th>\n",
       "      <td>9413.817605</td>\n",
       "      <td>8094.0</td>\n",
       "      <td>12</td>\n",
       "      <td>23961</td>\n",
       "    </tr>\n",
       "  </tbody>\n",
       "</table>\n",
       "</div>"
      ],
      "text/plain": [
       "                              mean  median  min    max\n",
       "Gender Marital_Status                                 \n",
       "F      0               8679.845815  7895.0   12  23955\n",
       "       1               8810.249789  7939.0   12  23959\n",
       "M      0               9453.756740  8101.0   12  23961\n",
       "       1               9413.817605  8094.0   12  23961"
      ]
     },
     "execution_count": 76,
     "metadata": {},
     "output_type": "execute_result"
    }
   ],
   "source": [
    "wm.groupby(['Gender','Marital_Status'])['Purchase'].agg(['mean','median','min','max'])"
   ]
  },
  {
   "cell_type": "markdown",
   "id": "f43a9930",
   "metadata": {},
   "source": [
    "##### Insights \n",
    "1. We can observed that more number of customers from age group 26-35 are making more purchases compared to all other age groups\n",
    "2. Less number of purchases made from Females from age group 0-17 and 55+ \n",
    "3. No difference in the purchases made by Married/Singles Males/Females"
   ]
  },
  {
   "cell_type": "markdown",
   "id": "324950b2",
   "metadata": {},
   "source": [
    "#### Visual analysis"
   ]
  },
  {
   "cell_type": "code",
   "execution_count": 78,
   "id": "1e283f43",
   "metadata": {},
   "outputs": [
    {
     "name": "stderr",
     "output_type": "stream",
     "text": [
      "C:\\ProgramData\\Anaconda3\\lib\\site-packages\\seaborn\\distributions.py:2619: FutureWarning: `distplot` is a deprecated function and will be removed in a future version. Please adapt your code to use either `displot` (a figure-level function with similar flexibility) or `histplot` (an axes-level function for histograms).\n",
      "  warnings.warn(msg, FutureWarning)\n"
     ]
    },
    {
     "data": {
      "text/plain": [
       "<AxesSubplot:xlabel='Purchase', ylabel='Density'>"
      ]
     },
     "execution_count": 78,
     "metadata": {},
     "output_type": "execute_result"
    },
    {
     "data": {
      "image/png": "[encoded data removed]",
      "text/plain": [
       "<Figure size 432x288 with 1 Axes>"
      ]
     },
     "metadata": {
      "needs_background": "light"
     },
     "output_type": "display_data"
    }
   ],
   "source": [
    "sns.distplot(wm['Purchase'])"
   ]
  },
  {
   "cell_type": "markdown",
   "id": "4bf8254b",
   "metadata": {},
   "source": [
    "##### Insights\n",
    "1. The data in not normally distributed\n",
    "2. We can make the data normally distributed by applying CLT "
   ]
  },
  {
   "cell_type": "code",
   "execution_count": 88,
   "id": "6d823e55",
   "metadata": {},
   "outputs": [
    {
     "data": {
      "text/plain": [
       "<AxesSubplot:xlabel='Gender', ylabel='count'>"
      ]
     },
     "execution_count": 88,
     "metadata": {},
     "output_type": "execute_result"
    },
    {
     "data": {
      "image/png": "[encoded data removed]",
      "text/plain": [
       "<Figure size 432x288 with 1 Axes>"
      ]
     },
     "metadata": {
      "needs_background": "light"
     },
     "output_type": "display_data"
    }
   ],
   "source": [
    "sns.countplot(x='Gender',hue='Marital_Status',data=wm)"
   ]
  },
  {
   "cell_type": "markdown",
   "id": "f0bb28bd",
   "metadata": {},
   "source": [
    "##### Insights \n",
    "More Single males are there compared to Females"
   ]
  },
  {
   "cell_type": "code",
   "execution_count": 89,
   "id": "28abef47",
   "metadata": {},
   "outputs": [
    {
     "data": {
      "text/plain": [
       "<AxesSubplot:xlabel='Gender', ylabel='count'>"
      ]
     },
     "execution_count": 89,
     "metadata": {},
     "output_type": "execute_result"
    },
    {
     "data": {
      "image/png": "[encoded data removed]",
      "text/plain": [
       "<Figure size 432x288 with 1 Axes>"
      ]
     },
     "metadata": {
      "needs_background": "light"
     },
     "output_type": "display_data"
    }
   ],
   "source": [
    "sns.countplot(x='Gender',hue='Age',data=wm)"
   ]
  },
  {
   "cell_type": "markdown",
   "id": "56117a61",
   "metadata": {},
   "source": [
    "##### Insights\n",
    "1. More people fall under age group 26-35 next comes age groups 36-45 and \n",
    "2. The number of purchased made by Young Adults and Middle age customers are compared to other age groups\n",
    "\n",
    "#### Suggestions\n",
    "Get to know the product that age groups of 0-17 and 55+ are interested and add more such products"
   ]
  },
  {
   "cell_type": "code",
   "execution_count": 97,
   "id": "784d3c59",
   "metadata": {},
   "outputs": [
    {
     "data": {
      "text/plain": [
       "<matplotlib.legend.Legend at 0x22224eecf70>"
      ]
     },
     "execution_count": 97,
     "metadata": {},
     "output_type": "execute_result"
    },
    {
     "data": {
      "image/png": "[encoded data removed]",
      "text/plain": [
       "<Figure size 1080x576 with 1 Axes>"
      ]
     },
     "metadata": {
      "needs_background": "light"
     },
     "output_type": "display_data"
    }
   ],
   "source": [
    "plt.figure(figsize=(15,8))\n",
    "sns.countplot(x='Gender',hue='Product_Category',data=wm)\n",
    "plt.legend(loc='upper right')"
   ]
  },
  {
   "cell_type": "markdown",
   "id": "68646914",
   "metadata": {},
   "source": [
    "##### Insights\n",
    "1. Frequently bought items are of Category - 1,5,8,11\n",
    "2. More males are buying the Products of category - 1,5,8,11\n",
    "\n",
    "##### Suggestions\n",
    "1. Give some Promotional offers to products of other categories to increase sales\n",
    "2. Temporary discounts to females to increase sales"
   ]
  },
  {
   "cell_type": "code",
   "execution_count": 104,
   "id": "51a86834",
   "metadata": {},
   "outputs": [
    {
     "data": {
      "text/plain": [
       "<AxesSubplot:xlabel='City_Category', ylabel='count'>"
      ]
     },
     "execution_count": 104,
     "metadata": {},
     "output_type": "execute_result"
    },
    {
     "data": {
      "image/png": "[encoded data removed]",
      "text/plain": [
       "<Figure size 576x432 with 1 Axes>"
      ]
     },
     "metadata": {
      "needs_background": "light"
     },
     "output_type": "display_data"
    }
   ],
   "source": [
    "plt.figure(figsize=(8,6))\n",
    "sns.countplot(x='City_Category',hue='Stay_In_Current_City_Years',data=wm)"
   ]
  },
  {
   "cell_type": "markdown",
   "id": "e1b5f3af",
   "metadata": {},
   "source": [
    "##### Insights\n",
    "In all cities more people are staying for 1 year"
   ]
  },
  {
   "cell_type": "code",
   "execution_count": 108,
   "id": "d0ffc2f3",
   "metadata": {},
   "outputs": [
    {
     "data": {
      "text/html": [
       "<div>\n",
       "<style scoped>\n",
       "    .dataframe tbody tr th:only-of-type {\n",
       "        vertical-align: middle;\n",
       "    }\n",
       "\n",
       "    .dataframe tbody tr th {\n",
       "        vertical-align: top;\n",
       "    }\n",
       "\n",
       "    .dataframe thead th {\n",
       "        text-align: right;\n",
       "    }\n",
       "</style>\n",
       "<table border=\"1\" class=\"dataframe\">\n",
       "  <thead>\n",
       "    <tr style=\"text-align: right;\">\n",
       "      <th></th>\n",
       "      <th></th>\n",
       "      <th></th>\n",
       "      <th>mean</th>\n",
       "      <th>median</th>\n",
       "      <th>max</th>\n",
       "      <th>min</th>\n",
       "      <th>count</th>\n",
       "    </tr>\n",
       "    <tr>\n",
       "      <th>City_Category</th>\n",
       "      <th>Stay_In_Current_City_Years</th>\n",
       "      <th>Gender</th>\n",
       "      <th></th>\n",
       "      <th></th>\n",
       "      <th></th>\n",
       "      <th></th>\n",
       "      <th></th>\n",
       "    </tr>\n",
       "  </thead>\n",
       "  <tbody>\n",
       "    <tr>\n",
       "      <th rowspan=\"10\" valign=\"top\">A</th>\n",
       "      <th rowspan=\"2\" valign=\"top\">0</th>\n",
       "      <th>F</th>\n",
       "      <td>8580.972178</td>\n",
       "      <td>7855.0</td>\n",
       "      <td>23948</td>\n",
       "      <td>12</td>\n",
       "      <td>5032</td>\n",
       "    </tr>\n",
       "    <tr>\n",
       "      <th>M</th>\n",
       "      <td>9093.192573</td>\n",
       "      <td>7995.0</td>\n",
       "      <td>23960</td>\n",
       "      <td>12</td>\n",
       "      <td>19146</td>\n",
       "    </tr>\n",
       "    <tr>\n",
       "      <th rowspan=\"2\" valign=\"top\">1</th>\n",
       "      <th>F</th>\n",
       "      <td>8680.180148</td>\n",
       "      <td>7864.5</td>\n",
       "      <td>23925</td>\n",
       "      <td>12</td>\n",
       "      <td>12140</td>\n",
       "    </tr>\n",
       "    <tr>\n",
       "      <th>M</th>\n",
       "      <td>8943.479887</td>\n",
       "      <td>7922.0</td>\n",
       "      <td>23958</td>\n",
       "      <td>12</td>\n",
       "      <td>37165</td>\n",
       "    </tr>\n",
       "    <tr>\n",
       "      <th rowspan=\"2\" valign=\"top\">2</th>\n",
       "      <th>F</th>\n",
       "      <td>8547.461090</td>\n",
       "      <td>7862.0</td>\n",
       "      <td>23913</td>\n",
       "      <td>13</td>\n",
       "      <td>6862</td>\n",
       "    </tr>\n",
       "    <tr>\n",
       "      <th>M</th>\n",
       "      <td>9113.742346</td>\n",
       "      <td>7998.0</td>\n",
       "      <td>23961</td>\n",
       "      <td>12</td>\n",
       "      <td>20252</td>\n",
       "    </tr>\n",
       "    <tr>\n",
       "      <th rowspan=\"2\" valign=\"top\">3</th>\n",
       "      <th>F</th>\n",
       "      <td>8408.311403</td>\n",
       "      <td>7783.0</td>\n",
       "      <td>23825</td>\n",
       "      <td>12</td>\n",
       "      <td>7463</td>\n",
       "    </tr>\n",
       "    <tr>\n",
       "      <th>M</th>\n",
       "      <td>9133.120293</td>\n",
       "      <td>7994.0</td>\n",
       "      <td>23939</td>\n",
       "      <td>12</td>\n",
       "      <td>17341</td>\n",
       "    </tr>\n",
       "    <tr>\n",
       "      <th rowspan=\"2\" valign=\"top\">4+</th>\n",
       "      <th>F</th>\n",
       "      <td>8644.917994</td>\n",
       "      <td>7864.0</td>\n",
       "      <td>23940</td>\n",
       "      <td>12</td>\n",
       "      <td>4207</td>\n",
       "    </tr>\n",
       "    <tr>\n",
       "      <th>M</th>\n",
       "      <td>8873.128423</td>\n",
       "      <td>7925.0</td>\n",
       "      <td>23904</td>\n",
       "      <td>12</td>\n",
       "      <td>18112</td>\n",
       "    </tr>\n",
       "    <tr>\n",
       "      <th rowspan=\"10\" valign=\"top\">B</th>\n",
       "      <th rowspan=\"2\" valign=\"top\">0</th>\n",
       "      <th>F</th>\n",
       "      <td>8297.238398</td>\n",
       "      <td>7767.5</td>\n",
       "      <td>23907</td>\n",
       "      <td>24</td>\n",
       "      <td>7240</td>\n",
       "    </tr>\n",
       "    <tr>\n",
       "      <th>M</th>\n",
       "      <td>9106.982235</td>\n",
       "      <td>7994.0</td>\n",
       "      <td>23954</td>\n",
       "      <td>12</td>\n",
       "      <td>21447</td>\n",
       "    </tr>\n",
       "    <tr>\n",
       "      <th rowspan=\"2\" valign=\"top\">1</th>\n",
       "      <th>F</th>\n",
       "      <td>8555.936700</td>\n",
       "      <td>7831.0</td>\n",
       "      <td>23959</td>\n",
       "      <td>12</td>\n",
       "      <td>22496</td>\n",
       "    </tr>\n",
       "    <tr>\n",
       "      <th>M</th>\n",
       "      <td>9409.082522</td>\n",
       "      <td>8092.0</td>\n",
       "      <td>23960</td>\n",
       "      <td>12</td>\n",
       "      <td>60917</td>\n",
       "    </tr>\n",
       "    <tr>\n",
       "      <th rowspan=\"2\" valign=\"top\">2</th>\n",
       "      <th>F</th>\n",
       "      <td>8579.422073</td>\n",
       "      <td>7865.0</td>\n",
       "      <td>23859</td>\n",
       "      <td>13</td>\n",
       "      <td>9233</td>\n",
       "    </tr>\n",
       "    <tr>\n",
       "      <th>M</th>\n",
       "      <td>9367.111528</td>\n",
       "      <td>8073.0</td>\n",
       "      <td>23960</td>\n",
       "      <td>12</td>\n",
       "      <td>32539</td>\n",
       "    </tr>\n",
       "    <tr>\n",
       "      <th rowspan=\"2\" valign=\"top\">3</th>\n",
       "      <th>F</th>\n",
       "      <td>8668.408562</td>\n",
       "      <td>7868.0</td>\n",
       "      <td>23955</td>\n",
       "      <td>12</td>\n",
       "      <td>10838</td>\n",
       "    </tr>\n",
       "    <tr>\n",
       "      <th>M</th>\n",
       "      <td>9367.460773</td>\n",
       "      <td>8057.0</td>\n",
       "      <td>23954</td>\n",
       "      <td>12</td>\n",
       "      <td>31853</td>\n",
       "    </tr>\n",
       "    <tr>\n",
       "      <th rowspan=\"2\" valign=\"top\">4+</th>\n",
       "      <th>F</th>\n",
       "      <td>8500.267117</td>\n",
       "      <td>7869.0</td>\n",
       "      <td>23920</td>\n",
       "      <td>12</td>\n",
       "      <td>7989</td>\n",
       "    </tr>\n",
       "    <tr>\n",
       "      <th>M</th>\n",
       "      <td>9400.394388</td>\n",
       "      <td>8066.0</td>\n",
       "      <td>23958</td>\n",
       "      <td>12</td>\n",
       "      <td>26621</td>\n",
       "    </tr>\n",
       "    <tr>\n",
       "      <th rowspan=\"10\" valign=\"top\">C</th>\n",
       "      <th rowspan=\"2\" valign=\"top\">0</th>\n",
       "      <th>F</th>\n",
       "      <td>9099.021290</td>\n",
       "      <td>8074.0</td>\n",
       "      <td>23948</td>\n",
       "      <td>12</td>\n",
       "      <td>4791</td>\n",
       "    </tr>\n",
       "    <tr>\n",
       "      <th>M</th>\n",
       "      <td>9958.108171</td>\n",
       "      <td>8691.0</td>\n",
       "      <td>23939</td>\n",
       "      <td>12</td>\n",
       "      <td>16742</td>\n",
       "    </tr>\n",
       "    <tr>\n",
       "      <th rowspan=\"2\" valign=\"top\">1</th>\n",
       "      <th>F</th>\n",
       "      <td>9140.012664</td>\n",
       "      <td>8073.5</td>\n",
       "      <td>23936</td>\n",
       "      <td>12</td>\n",
       "      <td>16662</td>\n",
       "    </tr>\n",
       "    <tr>\n",
       "      <th>M</th>\n",
       "      <td>9837.141221</td>\n",
       "      <td>8617.0</td>\n",
       "      <td>23961</td>\n",
       "      <td>12</td>\n",
       "      <td>44441</td>\n",
       "    </tr>\n",
       "    <tr>\n",
       "      <th rowspan=\"2\" valign=\"top\">2</th>\n",
       "      <th>F</th>\n",
       "      <td>9081.918417</td>\n",
       "      <td>8059.0</td>\n",
       "      <td>23899</td>\n",
       "      <td>12</td>\n",
       "      <td>8237</td>\n",
       "    </tr>\n",
       "    <tr>\n",
       "      <th>M</th>\n",
       "      <td>9999.260975</td>\n",
       "      <td>8695.0</td>\n",
       "      <td>23958</td>\n",
       "      <td>12</td>\n",
       "      <td>24715</td>\n",
       "    </tr>\n",
       "    <tr>\n",
       "      <th rowspan=\"2\" valign=\"top\">3</th>\n",
       "      <th>F</th>\n",
       "      <td>9086.309857</td>\n",
       "      <td>8062.0</td>\n",
       "      <td>23943</td>\n",
       "      <td>12</td>\n",
       "      <td>6219</td>\n",
       "    </tr>\n",
       "    <tr>\n",
       "      <th>M</th>\n",
       "      <td>9964.131983</td>\n",
       "      <td>8678.0</td>\n",
       "      <td>23961</td>\n",
       "      <td>12</td>\n",
       "      <td>21571</td>\n",
       "    </tr>\n",
       "    <tr>\n",
       "      <th rowspan=\"2\" valign=\"top\">4+</th>\n",
       "      <th>F</th>\n",
       "      <td>9232.170937</td>\n",
       "      <td>8115.5</td>\n",
       "      <td>23951</td>\n",
       "      <td>12</td>\n",
       "      <td>6400</td>\n",
       "    </tr>\n",
       "    <tr>\n",
       "      <th>M</th>\n",
       "      <td>9887.493153</td>\n",
       "      <td>8624.0</td>\n",
       "      <td>23955</td>\n",
       "      <td>12</td>\n",
       "      <td>21397</td>\n",
       "    </tr>\n",
       "  </tbody>\n",
       "</table>\n",
       "</div>"
      ],
      "text/plain": [
       "                                                        mean  median    max  \\\n",
       "City_Category Stay_In_Current_City_Years Gender                               \n",
       "A             0                          F       8580.972178  7855.0  23948   \n",
       "                                         M       9093.192573  7995.0  23960   \n",
       "              1                          F       8680.180148  7864.5  23925   \n",
       "                                         M       8943.479887  7922.0  23958   \n",
       "              2                          F       8547.461090  7862.0  23913   \n",
       "                                         M       9113.742346  7998.0  23961   \n",
       "              3                          F       8408.311403  7783.0  23825   \n",
       "                                         M       9133.120293  7994.0  23939   \n",
       "              4+                         F       8644.917994  7864.0  23940   \n",
       "                                         M       8873.128423  7925.0  23904   \n",
       "B             0                          F       8297.238398  7767.5  23907   \n",
       "                                         M       9106.982235  7994.0  23954   \n",
       "              1                          F       8555.936700  7831.0  23959   \n",
       "                                         M       9409.082522  8092.0  23960   \n",
       "              2                          F       8579.422073  7865.0  23859   \n",
       "                                         M       9367.111528  8073.0  23960   \n",
       "              3                          F       8668.408562  7868.0  23955   \n",
       "                                         M       9367.460773  8057.0  23954   \n",
       "              4+                         F       8500.267117  7869.0  23920   \n",
       "                                         M       9400.394388  8066.0  23958   \n",
       "C             0                          F       9099.021290  8074.0  23948   \n",
       "                                         M       9958.108171  8691.0  23939   \n",
       "              1                          F       9140.012664  8073.5  23936   \n",
       "                                         M       9837.141221  8617.0  23961   \n",
       "              2                          F       9081.918417  8059.0  23899   \n",
       "                                         M       9999.260975  8695.0  23958   \n",
       "              3                          F       9086.309857  8062.0  23943   \n",
       "                                         M       9964.131983  8678.0  23961   \n",
       "              4+                         F       9232.170937  8115.5  23951   \n",
       "                                         M       9887.493153  8624.0  23955   \n",
       "\n",
       "                                                 min  count  \n",
       "City_Category Stay_In_Current_City_Years Gender              \n",
       "A             0                          F        12   5032  \n",
       "                                         M        12  19146  \n",
       "              1                          F        12  12140  \n",
       "                                         M        12  37165  \n",
       "              2                          F        13   6862  \n",
       "                                         M        12  20252  \n",
       "              3                          F        12   7463  \n",
       "                                         M        12  17341  \n",
       "              4+                         F        12   4207  \n",
       "                                         M        12  18112  \n",
       "B             0                          F        24   7240  \n",
       "                                         M        12  21447  \n",
       "              1                          F        12  22496  \n",
       "                                         M        12  60917  \n",
       "              2                          F        13   9233  \n",
       "                                         M        12  32539  \n",
       "              3                          F        12  10838  \n",
       "                                         M        12  31853  \n",
       "              4+                         F        12   7989  \n",
       "                                         M        12  26621  \n",
       "C             0                          F        12   4791  \n",
       "                                         M        12  16742  \n",
       "              1                          F        12  16662  \n",
       "                                         M        12  44441  \n",
       "              2                          F        12   8237  \n",
       "                                         M        12  24715  \n",
       "              3                          F        12   6219  \n",
       "                                         M        12  21571  \n",
       "              4+                         F        12   6400  \n",
       "                                         M        12  21397  "
      ]
     },
     "execution_count": 108,
     "metadata": {},
     "output_type": "execute_result"
    }
   ],
   "source": [
    "wm.groupby(['City_Category','Stay_In_Current_City_Years','Gender'])['Purchase'].agg(['mean','median','max','min','count'])"
   ]
  },
  {
   "cell_type": "markdown",
   "id": "7c12fd5e",
   "metadata": {},
   "source": [
    "#### Overall sales(in millions)"
   ]
  },
  {
   "cell_type": "code",
   "execution_count": 117,
   "id": "2ee90195",
   "metadata": {},
   "outputs": [
    {
     "data": {
      "text/plain": [
       "City_Category\n",
       "A    1316.471661\n",
       "B    2115.533605\n",
       "C    1663.807476\n",
       "Name: Purchase, dtype: float64"
      ]
     },
     "execution_count": 117,
     "metadata": {},
     "output_type": "execute_result"
    }
   ],
   "source": [
    "wm.groupby(['City_Category'])['Purchase'].apply(lambda x:x.sum()/1000000)"
   ]
  },
  {
   "cell_type": "code",
   "execution_count": 118,
   "id": "d619e8fa",
   "metadata": {},
   "outputs": [
    {
     "data": {
      "text/plain": [
       "City_Category  Gender\n",
       "A              F          306.329915\n",
       "               M         1010.141746\n",
       "B              F          493.617008\n",
       "               M         1621.916597\n",
       "C              F          386.285719\n",
       "               M         1277.521757\n",
       "Name: Purchase, dtype: float64"
      ]
     },
     "execution_count": 118,
     "metadata": {},
     "output_type": "execute_result"
    }
   ],
   "source": [
    "wm.groupby(['City_Category','Gender'])['Purchase'].apply(lambda x:x.sum()/1000000)`"
   ]
  },
  {
   "cell_type": "code",
   "execution_count": 120,
   "id": "bc04b2a1",
   "metadata": {},
   "outputs": [
    {
     "data": {
      "text/plain": [
       "Gender\n",
       "F    1186.232642\n",
       "M    3909.580100\n",
       "Name: Purchase, dtype: float64"
      ]
     },
     "execution_count": 120,
     "metadata": {},
     "output_type": "execute_result"
    }
   ],
   "source": [
    "wm.groupby(['Gender'])['Purchase'].apply(lambda x:x.sum()/1000000)"
   ]
  },
  {
   "cell_type": "code",
   "execution_count": 122,
   "id": "5c4c3f72",
   "metadata": {},
   "outputs": [
    {
     "data": {
      "text/plain": [
       "Age\n",
       "0-17      134.913183\n",
       "18-25     913.848675\n",
       "26-35    2031.770578\n",
       "36-45    1026.569884\n",
       "46-50     420.843403\n",
       "51-55     367.099644\n",
       "55+       200.767375\n",
       "Name: Purchase, dtype: float64"
      ]
     },
     "execution_count": 122,
     "metadata": {},
     "output_type": "execute_result"
    }
   ],
   "source": [
    "wm.groupby(['Age'])['Purchase'].apply(lambda x:x.sum()/1000000)"
   ]
  },
  {
   "cell_type": "code",
   "execution_count": 121,
   "id": "ebc40aec",
   "metadata": {},
   "outputs": [
    {
     "data": {
      "text/plain": [
       "Gender  Age  \n",
       "F       0-17       42.385978\n",
       "        18-25     205.475842\n",
       "        26-35     442.976233\n",
       "        36-45     243.438963\n",
       "        46-50     116.706864\n",
       "        51-55      89.465997\n",
       "        55+        45.782765\n",
       "M       0-17       92.527205\n",
       "        18-25     708.372833\n",
       "        26-35    1588.794345\n",
       "        36-45     783.130921\n",
       "        46-50     304.136539\n",
       "        51-55     277.633647\n",
       "        55+       154.984610\n",
       "Name: Purchase, dtype: float64"
      ]
     },
     "execution_count": 121,
     "metadata": {},
     "output_type": "execute_result"
    }
   ],
   "source": [
    "wm.groupby(['Gender','Age'])['Purchase'].apply(lambda x:x.sum()/1000000)"
   ]
  },
  {
   "cell_type": "code",
   "execution_count": 123,
   "id": "ab53ff8b",
   "metadata": {},
   "outputs": [
    {
     "data": {
      "text/plain": [
       "Marital_Status\n",
       "0    3008.927447\n",
       "1    2086.885295\n",
       "Name: Purchase, dtype: float64"
      ]
     },
     "execution_count": 123,
     "metadata": {},
     "output_type": "execute_result"
    }
   ],
   "source": [
    "wm.groupby(['Marital_Status'])['Purchase'].apply(lambda x:x.sum()/1000000)"
   ]
  },
  {
   "cell_type": "code",
   "execution_count": 124,
   "id": "a8fe12e7",
   "metadata": {},
   "outputs": [
    {
     "data": {
      "text/plain": [
       "Gender  Marital_Status\n",
       "F       0                  684.154127\n",
       "        1                  502.078515\n",
       "M       0                 2324.773320\n",
       "        1                 1584.806780\n",
       "Name: Purchase, dtype: float64"
      ]
     },
     "execution_count": 124,
     "metadata": {},
     "output_type": "execute_result"
    }
   ],
   "source": [
    "wm.groupby(['Gender','Marital_Status'])['Purchase'].apply(lambda x:x.sum()/1000000)"
   ]
  },
  {
   "cell_type": "code",
   "execution_count": 115,
   "id": "411ab104",
   "metadata": {},
   "outputs": [
    {
     "data": {
      "text/plain": [
       "City_Category  Stay_In_Current_City_Years\n",
       "A              0                             217.277717\n",
       "               1                             437.761817\n",
       "               2                             243.224188\n",
       "               3                             221.128667\n",
       "               4+                            197.079272\n",
       "B              0                             255.389454\n",
       "               1                             765.647432\n",
       "               2                             384.010246\n",
       "               3                             392.329940\n",
       "               4+                            318.156533\n",
       "C              0                             210.312058\n",
       "               1                             589.463284\n",
       "               2                             321.939497\n",
       "               3                             271.444052\n",
       "               4+                            270.648585\n",
       "Name: Purchase, dtype: float64"
      ]
     },
     "execution_count": 115,
     "metadata": {},
     "output_type": "execute_result"
    }
   ],
   "source": [
    "wm.groupby(['City_Category','Stay_In_Current_City_Years'])['Purchase'].apply(lambda x:x.sum()/1000000)"
   ]
  },
  {
   "cell_type": "code",
   "execution_count": 114,
   "id": "7eecea2f",
   "metadata": {},
   "outputs": [
    {
     "data": {
      "text/plain": [
       "City_Category  Stay_In_Current_City_Years  Gender\n",
       "A              0                           F          43.179452\n",
       "                                           M         174.098265\n",
       "               1                           F         105.377387\n",
       "                                           M         332.384430\n",
       "               2                           F          58.652678\n",
       "                                           M         184.571510\n",
       "               3                           F          62.751228\n",
       "                                           M         158.377439\n",
       "               4+                          F          36.369170\n",
       "                                           M         160.710102\n",
       "B              0                           F          60.072006\n",
       "                                           M         195.317448\n",
       "               1                           F         192.474352\n",
       "                                           M         573.173080\n",
       "               2                           F          79.213804\n",
       "                                           M         304.796442\n",
       "               3                           F          93.948212\n",
       "                                           M         298.381728\n",
       "               4+                          F          67.908634\n",
       "                                           M         250.247899\n",
       "C              0                           F          43.593411\n",
       "                                           M         166.718647\n",
       "               1                           F         152.290891\n",
       "                                           M         437.172393\n",
       "               2                           F          74.807762\n",
       "                                           M         247.131735\n",
       "               3                           F          56.507761\n",
       "                                           M         214.936291\n",
       "               4+                          F          59.085894\n",
       "                                           M         211.562691\n",
       "Name: Purchase, dtype: float64"
      ]
     },
     "execution_count": 114,
     "metadata": {},
     "output_type": "execute_result"
    }
   ],
   "source": [
    "wm.groupby(['City_Category','Stay_In_Current_City_Years','Gender'])['Purchase'].apply(lambda x:x.sum()/1000000)"
   ]
  },
  {
   "cell_type": "markdown",
   "id": "e47e25bf",
   "metadata": {},
   "source": [
    "#### Insights\n",
    "1. Males are contributing to more sales\n",
    "2. More sales are from City B\n",
    "3. In all 3 cities customers who are staying since a year are spending more \n",
    "4. Married/Single males are spending more than Married/Single Females\n",
    "5. Age Group 18-25 are spending more"
   ]
  },
  {
   "cell_type": "markdown",
   "id": "9f8779b7",
   "metadata": {},
   "source": [
    "#### Tracking the amount spent per transaction of all the 50 million female customers, and all the 50 million male customers, calculate the average, and conclude the results."
   ]
  },
  {
   "cell_type": "code",
   "execution_count": 3,
   "id": "3e0cd1c4",
   "metadata": {},
   "outputs": [],
   "source": [
    "wm_females = wm[wm['Gender']=='F']\n",
    "wm_males = wm[wm['Gender']=='M']"
   ]
  },
  {
   "cell_type": "code",
   "execution_count": 4,
   "id": "f958d3c8",
   "metadata": {},
   "outputs": [],
   "source": [
    "wm_females_mean = wm_females['Purchase'].mean()\n",
    "wm_males_mean = wm_males['Purchase'].mean()"
   ]
  },
  {
   "cell_type": "code",
   "execution_count": 20,
   "id": "0dd98265",
   "metadata": {},
   "outputs": [
    {
     "name": "stdout",
     "output_type": "stream",
     "text": [
      "Sample mean of females:  8734.565765155476\n",
      "Sample mean of males: 9437.526040472265\n"
     ]
    }
   ],
   "source": [
    "print(\"Sample mean of females: \" , wm_females_mean)\n",
    "print(\"Sample mean of males:\", wm_males_mean)"
   ]
  },
  {
   "cell_type": "code",
   "execution_count": 6,
   "id": "f96391e8",
   "metadata": {},
   "outputs": [
    {
     "name": "stderr",
     "output_type": "stream",
     "text": [
      "C:\\ProgramData\\Anaconda3\\lib\\site-packages\\seaborn\\distributions.py:2619: FutureWarning: `distplot` is a deprecated function and will be removed in a future version. Please adapt your code to use either `displot` (a figure-level function with similar flexibility) or `histplot` (an axes-level function for histograms).\n",
      "  warnings.warn(msg, FutureWarning)\n",
      "C:\\ProgramData\\Anaconda3\\lib\\site-packages\\seaborn\\distributions.py:2619: FutureWarning: `distplot` is a deprecated function and will be removed in a future version. Please adapt your code to use either `displot` (a figure-level function with similar flexibility) or `histplot` (an axes-level function for histograms).\n",
      "  warnings.warn(msg, FutureWarning)\n"
     ]
    },
    {
     "data": {
      "image/png": "[encoded data removed]",
      "text/plain": [
       "<Figure size 1080x360 with 2 Axes>"
      ]
     },
     "metadata": {
      "needs_background": "light"
     },
     "output_type": "display_data"
    }
   ],
   "source": [
    "plt.figure(figsize=(15,5))\n",
    "plt.subplot(1,2,1)\n",
    "plt.title('Female Purchase distribution ')\n",
    "sns.distplot(wm_females['Purchase'])\n",
    "plt.subplot(1,2,2)\n",
    "plt.title('Male Purchase distribution')\n",
    "sns.distplot(wm_males['Purchase'])\n",
    "plt.show()"
   ]
  },
  {
   "cell_type": "code",
   "execution_count": 8,
   "id": "6806cbad",
   "metadata": {},
   "outputs": [],
   "source": [
    "sample_size = 30\n",
    "no_of_repitions = 1000"
   ]
  },
  {
   "cell_type": "markdown",
   "id": "7e8c4dc7",
   "metadata": {},
   "source": [
    "####  CLT\n",
    "Peforming CLT to change the distribution to Normal/ Guassian distribution also we cannot conlcude that Males spend more than females using sample data     \n",
    "Means of Sample distribution follows Normal distribution with mean = population mean and standard error = population std deviation/(sqrt(n)) "
   ]
  },
  {
   "cell_type": "code",
   "execution_count": 9,
   "id": "48a44071",
   "metadata": {},
   "outputs": [],
   "source": [
    "sample_females = [np.mean(wm_females['Purchase'].sample(sample_size)) for i in range(no_of_repitions)]\n",
    "sample_males = [np.mean(wm_males['Purchase'].sample(sample_size)) for i in range(no_of_repitions)]"
   ]
  },
  {
   "cell_type": "code",
   "execution_count": 10,
   "id": "bc5a6283",
   "metadata": {},
   "outputs": [
    {
     "name": "stderr",
     "output_type": "stream",
     "text": [
      "C:\\ProgramData\\Anaconda3\\lib\\site-packages\\seaborn\\distributions.py:2619: FutureWarning: `distplot` is a deprecated function and will be removed in a future version. Please adapt your code to use either `displot` (a figure-level function with similar flexibility) or `histplot` (an axes-level function for histograms).\n",
      "  warnings.warn(msg, FutureWarning)\n",
      "C:\\ProgramData\\Anaconda3\\lib\\site-packages\\seaborn\\distributions.py:2619: FutureWarning: `distplot` is a deprecated function and will be removed in a future version. Please adapt your code to use either `displot` (a figure-level function with similar flexibility) or `histplot` (an axes-level function for histograms).\n",
      "  warnings.warn(msg, FutureWarning)\n"
     ]
    },
    {
     "data": {
      "image/png": "[encoded data removed]",
      "text/plain": [
       "<Figure size 1080x360 with 2 Axes>"
      ]
     },
     "metadata": {
      "needs_background": "light"
     },
     "output_type": "display_data"
    }
   ],
   "source": [
    "plt.figure(figsize=(15,5))\n",
    "plt.subplot(1,2,1)\n",
    "plt.title('Female Purchase distribution ')\n",
    "sns.distplot(sample_females)\n",
    "plt.subplot(1,2,2)\n",
    "plt.title('Male Purchase distribution')\n",
    "sns.distplot(sample_males)\n",
    "plt.show()"
   ]
  },
  {
   "cell_type": "code",
   "execution_count": 11,
   "id": "545c07d7",
   "metadata": {},
   "outputs": [
    {
     "name": "stdout",
     "output_type": "stream",
     "text": [
      "Mean of sample means for female: 8750.8915\n",
      "Mean of sample means for male: 9381.095166666668\n",
      "Standard error for female: 151.7774137842522\n",
      "Standard error for male: 173.03465773995757\n"
     ]
    }
   ],
   "source": [
    "mean_of_sample_means_female = np.mean(sample_females)\n",
    "mean_of_sample_means_male = np.mean(sample_males)\n",
    "std_error_females = np.std(sample_females)/(np.sqrt(sample_size))\n",
    "std_error_males = np.std(sample_males)/(np.sqrt(sample_size))\n",
    "print('Mean of sample means for female:', mean_of_sample_means_female)\n",
    "print('Mean of sample means for male:', mean_of_sample_means_male)\n",
    "print('Standard error for female:', std_error_females)\n",
    "print('Standard error for male:', std_error_males)"
   ]
  },
  {
   "cell_type": "markdown",
   "id": "9cd43430",
   "metadata": {},
   "source": [
    "#### Observations\n",
    "Using CLT we can conclude that males spend more than females "
   ]
  },
  {
   "cell_type": "markdown",
   "id": "930e2c30",
   "metadata": {},
   "source": [
    "### Use the Central limit theorem to compute the interval. Change the sample size to observe the distribution of the mean of the expenses by female and male customers."
   ]
  },
  {
   "cell_type": "markdown",
   "id": "6fd8094c",
   "metadata": {},
   "source": [
    "1. Computing the interval with 90%"
   ]
  },
  {
   "cell_type": "code",
   "execution_count": 57,
   "id": "2d34e262",
   "metadata": {},
   "outputs": [
    {
     "name": "stdout",
     "output_type": "stream",
     "text": [
      "Mean expenses by female interval with 90% confidence:  (8470.766747059579, 8993.841119607083)\n",
      "Mean expenses by male interval with 90% confidence:  (9134.56115325576, 9695.52984674424)\n"
     ]
    }
   ],
   "source": [
    "female_interval_90_pctile = norm.interval(0.90, loc=mean_of_sample_means_female, scale=std_error_females)\n",
    "male_interval_90_pctile = norm.interval(0.90, loc=mean_of_sample_means_male, scale=std_error_males)\n",
    "print(\"Mean expenses by female interval with 90% confidence: \", female_interval_90_pctile)\n",
    "print(\"Mean expenses by male interval with 90% confidence: \", male_interval_90_pctile)"
   ]
  },
  {
   "cell_type": "markdown",
   "id": "f969cff5",
   "metadata": {},
   "source": [
    "2. Computing the interval with 95%"
   ]
  },
  {
   "cell_type": "code",
   "execution_count": 56,
   "id": "804ca129",
   "metadata": {},
   "outputs": [
    {
     "name": "stdout",
     "output_type": "stream",
     "text": [
      "Mean expenses by female interval with 95% confidence:  (8420.663154290552, 9043.94471237611)\n",
      "Mean expenses by male interval with 95% confidence:  (9080.82778674072, 9749.26321325928)\n"
     ]
    }
   ],
   "source": [
    "female_interval_95_pctile = norm.interval(0.95, loc=mean_of_sample_means_female, scale=std_error_females)\n",
    "male_interval_95_pctile = norm.interval(0.95, loc=mean_of_sample_means_male, scale=std_error_males)\n",
    "print(\"Mean expenses by female interval with 95% confidence: \", female_interval_95_pctile)\n",
    "print(\"Mean expenses by male interval with 95% confidence: \", male_interval_95_pctile)"
   ]
  },
  {
   "cell_type": "markdown",
   "id": "823c5faf",
   "metadata": {},
   "source": [
    "3. Computing the interval with 99%"
   ]
  },
  {
   "cell_type": "code",
   "execution_count": 58,
   "id": "0c52c526",
   "metadata": {},
   "outputs": [
    {
     "name": "stdout",
     "output_type": "stream",
     "text": [
      "Mean expenses by female interval with 95% confidence:  (8322.738524391607, 9141.869342275055)\n",
      "Mean expenses by male interval with 95% confidence:  (8975.808969957136, 9854.282030042865)\n"
     ]
    }
   ],
   "source": [
    "female_interval_99_pctile = norm.interval(0.99, loc=mean_of_sample_means_female, scale=std_error_females)\n",
    "male_interval_99_pctile = norm.interval(0.99, loc=mean_of_sample_means_male, scale=std_error_males)\n",
    "print(\"Mean expenses by female interval with 95% confidence: \", female_interval_99_pctile)\n",
    "print(\"Mean expenses by male interval with 95% confidence: \", male_interval_99_pctile)"
   ]
  },
  {
   "cell_type": "markdown",
   "id": "cb52ffe3",
   "metadata": {},
   "source": [
    "**Observations**\n",
    "1. With **90% and 95% confidence** we can draw conclusions from the samples that **males spend more than females**\n",
    "2. When the confidence level increases to **99% CI** we can observe the overlap in the spends, here we **cannot make conlusion that males are spending more than females**"
   ]
  },
  {
   "cell_type": "markdown",
   "id": "741955d8",
   "metadata": {},
   "source": [
    "### Customer Profiling on spending habbits for Married vs Unmarried "
   ]
  },
  {
   "cell_type": "code",
   "execution_count": 13,
   "id": "f1a331ac",
   "metadata": {},
   "outputs": [],
   "source": [
    "unmarried = wm[wm['Marital_Status']==0]\n",
    "married = wm[wm['Marital_Status']==1]"
   ]
  },
  {
   "cell_type": "code",
   "execution_count": 14,
   "id": "9a841f5e",
   "metadata": {},
   "outputs": [
    {
     "name": "stdout",
     "output_type": "stream",
     "text": [
      "Sample mean of unmarried:  9265.907618921507\n",
      "Sample mean of married: 9261.174574082374\n"
     ]
    }
   ],
   "source": [
    "wm_unmarried_mean = unmarried['Purchase'].mean()\n",
    "wm_married_mean = married['Purchase'].mean()\n",
    "print(\"Sample mean of unmarried: \" , wm_unmarried_mean)\n",
    "print(\"Sample mean of married:\", wm_married_mean)"
   ]
  },
  {
   "cell_type": "code",
   "execution_count": 15,
   "id": "9eea3d59",
   "metadata": {},
   "outputs": [
    {
     "name": "stderr",
     "output_type": "stream",
     "text": [
      "C:\\ProgramData\\Anaconda3\\lib\\site-packages\\seaborn\\distributions.py:2619: FutureWarning: `distplot` is a deprecated function and will be removed in a future version. Please adapt your code to use either `displot` (a figure-level function with similar flexibility) or `histplot` (an axes-level function for histograms).\n",
      "  warnings.warn(msg, FutureWarning)\n",
      "C:\\ProgramData\\Anaconda3\\lib\\site-packages\\seaborn\\distributions.py:2619: FutureWarning: `distplot` is a deprecated function and will be removed in a future version. Please adapt your code to use either `displot` (a figure-level function with similar flexibility) or `histplot` (an axes-level function for histograms).\n",
      "  warnings.warn(msg, FutureWarning)\n"
     ]
    },
    {
     "data": {
      "image/png": "[encoded data removed]",
      "text/plain": [
       "<Figure size 1080x360 with 2 Axes>"
      ]
     },
     "metadata": {
      "needs_background": "light"
     },
     "output_type": "display_data"
    }
   ],
   "source": [
    "plt.figure(figsize=(15,5))\n",
    "plt.subplot(1,2,1)\n",
    "plt.title('Unmarried Purchase distribution ')\n",
    "sns.distplot(unmarried['Purchase'])\n",
    "plt.subplot(1,2,2)\n",
    "plt.title('Married Purchase distribution')\n",
    "sns.distplot(married['Purchase'])\n",
    "plt.show()"
   ]
  },
  {
   "cell_type": "code",
   "execution_count": 16,
   "id": "d48aecb6",
   "metadata": {},
   "outputs": [],
   "source": [
    "#Performing CLT\n",
    "sample_size = 50\n",
    "repitions = 1000\n",
    "sample_means_unmarried = [np.mean(unmarried['Purchase'].sample(sample_size)) for i in range(no_of_repitions)]\n",
    "sample_means_married = [np.mean(married['Purchase'].sample(sample_size)) for i in range(no_of_repitions)]"
   ]
  },
  {
   "cell_type": "code",
   "execution_count": 17,
   "id": "058e6537",
   "metadata": {},
   "outputs": [
    {
     "name": "stderr",
     "output_type": "stream",
     "text": [
      "C:\\ProgramData\\Anaconda3\\lib\\site-packages\\seaborn\\distributions.py:2619: FutureWarning: `distplot` is a deprecated function and will be removed in a future version. Please adapt your code to use either `displot` (a figure-level function with similar flexibility) or `histplot` (an axes-level function for histograms).\n",
      "  warnings.warn(msg, FutureWarning)\n",
      "C:\\ProgramData\\Anaconda3\\lib\\site-packages\\seaborn\\distributions.py:2619: FutureWarning: `distplot` is a deprecated function and will be removed in a future version. Please adapt your code to use either `displot` (a figure-level function with similar flexibility) or `histplot` (an axes-level function for histograms).\n",
      "  warnings.warn(msg, FutureWarning)\n"
     ]
    },
    {
     "data": {
      "image/png": "[encoded data removed]",
      "text/plain": [
       "<Figure size 1080x360 with 2 Axes>"
      ]
     },
     "metadata": {
      "needs_background": "light"
     },
     "output_type": "display_data"
    }
   ],
   "source": [
    "plt.figure(figsize=(15,5))\n",
    "plt.subplot(1,2,1)\n",
    "plt.title('Unmarried Purchase distribution ')\n",
    "sns.distplot(sample_means_unmarried)\n",
    "plt.subplot(1,2,2)\n",
    "plt.title('Married Purchase distribution')\n",
    "sns.distplot(sample_means_married)\n",
    "plt.show()"
   ]
  },
  {
   "cell_type": "code",
   "execution_count": 19,
   "id": "cea9ee4f",
   "metadata": {},
   "outputs": [
    {
     "name": "stdout",
     "output_type": "stream",
     "text": [
      "Mean of sample means for Unmarried: 9235.538\n",
      "Mean of sample means for Married: 9270.458359999999\n",
      "Standard error for Unmarried: 98.92365193266977\n",
      "Standard error for Married: 104.81458188161706\n"
     ]
    }
   ],
   "source": [
    "mean_of_sample_means_unmarried = np.mean(sample_means_unmarried)\n",
    "mean_of_sample_means_married = np.mean(sample_means_married)\n",
    "std_error_unmarried = np.std(sample_means_unmarried)/(np.sqrt(sample_size))\n",
    "std_error_married = np.std(sample_means_married)/(np.sqrt(sample_size))\n",
    "print('Mean of sample means for Unmarried:', mean_of_sample_means_unmarried)\n",
    "print('Mean of sample means for Married:', mean_of_sample_means_married)\n",
    "print('Standard error for Unmarried:', std_error_unmarried)\n",
    "print('Standard error for Married:', std_error_married)"
   ]
  },
  {
   "cell_type": "markdown",
   "id": "bb556ab5",
   "metadata": {},
   "source": [
    "#### Calculation of Intervals with 90, 95 and 99% CI for married vs unmarried"
   ]
  },
  {
   "cell_type": "code",
   "execution_count": 20,
   "id": "946be5b5",
   "metadata": {},
   "outputs": [
    {
     "name": "stdout",
     "output_type": "stream",
     "text": [
      "Mean expenses by Unmarried interval with 90% confidence:  (9072.823072327263, 9398.252927672738)\n",
      "Mean expenses by Married interval with 90% confidence:  (9098.05371483462, 9442.863005165378)\n"
     ]
    }
   ],
   "source": [
    "unmarried_interval_90_pctile = norm.interval(0.90, loc=mean_of_sample_means_unmarried, scale=std_error_unmarried)\n",
    "married_interval_90_pctile = norm.interval(0.90, loc=mean_of_sample_means_married, scale=std_error_married)\n",
    "print(\"Mean expenses by Unmarried interval with 90% confidence: \", unmarried_interval_90_pctile)\n",
    "print(\"Mean expenses by Married interval with 90% confidence: \", married_interval_90_pctile)"
   ]
  },
  {
   "cell_type": "code",
   "execution_count": 21,
   "id": "b694caae",
   "metadata": {},
   "outputs": [
    {
     "name": "stdout",
     "output_type": "stream",
     "text": [
      "Mean expenses by Unmarried interval with 95% confidence:  (9041.651204992791, 9429.42479500721)\n",
      "Mean expenses by Married interval with 95% confidence:  (9065.025554457405, 9475.891165542593)\n"
     ]
    }
   ],
   "source": [
    "unmarried_interval_95_pctile = norm.interval(0.95, loc=mean_of_sample_means_unmarried, scale=std_error_unmarried)\n",
    "married_interval_95_pctile = norm.interval(0.95, loc=mean_of_sample_means_married, scale=std_error_married)\n",
    "print(\"Mean expenses by Unmarried interval with 95% confidence: \", unmarried_interval_95_pctile)\n",
    "print(\"Mean expenses by Married interval with 95% confidence: \", married_interval_95_pctile)"
   ]
  },
  {
   "cell_type": "code",
   "execution_count": 22,
   "id": "1cad936c",
   "metadata": {},
   "outputs": [
    {
     "name": "stdout",
     "output_type": "stream",
     "text": [
      "Mean expenses by Unmarried interval with 95% confidence:  (8980.727558537757, 9490.348441462243)\n",
      "Mean expenses by Married interval with 95% confidence:  (9000.473888550105, 9540.442831449893)\n"
     ]
    }
   ],
   "source": [
    "unmarried_interval_99_pctile = norm.interval(0.99, loc=mean_of_sample_means_unmarried, scale=std_error_unmarried)\n",
    "married_interval_99_pctile = norm.interval(0.99, loc=mean_of_sample_means_married, scale=std_error_married)\n",
    "print(\"Mean expenses by Unmarried interval with 95% confidence: \", unmarried_interval_99_pctile)\n",
    "print(\"Mean expenses by Married interval with 95% confidence: \", married_interval_99_pctile)"
   ]
  },
  {
   "cell_type": "markdown",
   "id": "aaf6d53a",
   "metadata": {},
   "source": [
    "**Observations:**\n",
    "We have no evidences to draw conclusion in spending habbits of Unmarried vs Married as there is overlapping in all the \n",
    "confidence interval taken"
   ]
  },
  {
   "cell_type": "markdown",
   "id": "8d9672b1",
   "metadata": {},
   "source": [
    "### Customer Profiling on spending habbits based on ages"
   ]
  },
  {
   "cell_type": "code",
   "execution_count": 28,
   "id": "5a636094",
   "metadata": {},
   "outputs": [
    {
     "data": {
      "text/plain": [
       "['0-17', '18-25', '26-35', '36-45', '46-50', '51-55', '55+']"
      ]
     },
     "execution_count": 28,
     "metadata": {},
     "output_type": "execute_result"
    }
   ],
   "source": [
    "sorted(wm['Age'].unique())"
   ]
  },
  {
   "cell_type": "code",
   "execution_count": 29,
   "id": "1ed6e6b4",
   "metadata": {},
   "outputs": [],
   "source": [
    "age_grp_0_17 = wm[wm['Age'] == '0-17']\n",
    "age_grp_18_25 = wm[wm['Age'] == '18-25']\n",
    "age_grp_26_35 = wm[wm['Age'] == '26-35']\n",
    "age_grp_36_45 = wm[wm['Age'] == '36-45']\n",
    "age_grp_46_50 = wm[wm['Age'] == '46-50']\n",
    "age_grp_51_55 = wm[wm['Age'] == '51-55']\n",
    "age_grp_abv_55 = wm[wm['Age'] == '55+']"
   ]
  },
  {
   "cell_type": "code",
   "execution_count": 31,
   "id": "3703f5a6",
   "metadata": {},
   "outputs": [],
   "source": [
    "sample_size = 30\n",
    "repitions = 1000"
   ]
  },
  {
   "cell_type": "code",
   "execution_count": 34,
   "id": "66ab5591",
   "metadata": {},
   "outputs": [],
   "source": [
    "age_grp_0_17_samples = [np.mean(age_grp_0_17['Purchase'].sample(sample_size)) for i in range(repitions)]\n",
    "age_grp_18_25_samples = [np.mean(age_grp_18_25['Purchase'].sample(sample_size)) for i in range(repitions)]\n",
    "age_grp_26_35_samples = [np.mean(age_grp_26_35['Purchase'].sample(sample_size)) for i in range(repitions)]\n",
    "age_grp_36_45_samples = [np.mean(age_grp_36_45['Purchase'].sample(sample_size)) for i in range(repitions)]\n",
    "age_grp_46_50_samples = [np.mean(age_grp_46_50['Purchase'].sample(sample_size)) for i in range(repitions)]\n",
    "age_grp_51_55_samples = [np.mean(age_grp_51_55['Purchase'].sample(sample_size)) for i in range(repitions)]\n",
    "age_grp_abv_55_samples = [np.mean(age_grp_abv_55['Purchase'].sample(sample_size)) for i in range(repitions)]"
   ]
  },
  {
   "cell_type": "code",
   "execution_count": 38,
   "id": "f8af66e1",
   "metadata": {},
   "outputs": [
    {
     "name": "stdout",
     "output_type": "stream",
     "text": [
      "Mean of means for age group 0-17:  8928.500766666666\n",
      "std error for age group 0-17:  164.10254917789703\n",
      "Mean of means for age group 18-25:  9216.100166666665\n",
      "std error for age group 18-25:  161.60601332011535\n",
      "Mean of means for age group 26_35:  9246.338200000002\n",
      "std error for age group 26_35:  167.98722983571454\n",
      "Mean of means for age group 36_45:  9324.609533333334\n",
      "std error for age group 36_45:  168.4633180578033\n",
      "Mean of means for age group 46_50:  9214.586800000001\n",
      "std error for age group 46_50:  169.5396770029543\n",
      "Mean of means for age group 51_55:  9534.025333333335\n",
      "std error for age group 51_55:  170.13102281329026\n",
      "Mean of means for age group abv_55:  9290.362333333333\n",
      "std error for age group abv_55:  163.4626522602844\n"
     ]
    }
   ],
   "source": [
    "mean_of_means_age_grp_0_17_samples = np.mean(age_grp_0_17_samples)\n",
    "mean_of_means_age_grp_18_25_samples = np.mean(age_grp_18_25_samples)\n",
    "mean_of_means_age_grp_26_35_samples = np.mean(age_grp_26_35_samples)\n",
    "mean_of_means_age_grp_36_45_samples = np.mean(age_grp_36_45_samples)\n",
    "mean_of_means_age_grp_46_50_samples = np.mean(age_grp_46_50_samples)\n",
    "mean_of_means_age_grp_51_55_samples = np.mean(age_grp_51_55_samples)\n",
    "mean_of_means_age_grp_abv_55_samples = np.mean(age_grp_abv_55_samples)\n",
    "std_error_of_age_grp_0_17 = np.std(age_grp_0_17_samples)/(np.sqrt(sample_size))\n",
    "std_error_of_age_grp_18_25 = np.std(age_grp_18_25_samples)/(np.sqrt(sample_size))\n",
    "std_error_of_age_grp_26_35 = np.std(age_grp_26_35_samples)/(np.sqrt(sample_size))\n",
    "std_error_of_age_grp_36_45 = np.std(age_grp_36_45_samples)/(np.sqrt(sample_size))\n",
    "std_error_of_age_grp_46_50 = np.std(age_grp_46_50_samples)/(np.sqrt(sample_size))\n",
    "std_error_of_age_grp_51_55 = np.std(age_grp_51_55_samples)/(np.sqrt(sample_size))\n",
    "std_error_of_age_grp_abv_55 = np.std(age_grp_abv_55_samples)/(np.sqrt(sample_size))\n",
    "print(\"Mean of means for age group 0-17: \",mean_of_means_age_grp_0_17_samples)\n",
    "print(\"std error for age group 0-17: \",std_error_of_age_grp_0_17)\n",
    "print(\"Mean of means for age group 18-25: \",mean_of_means_age_grp_18_25_samples)\n",
    "print(\"std error for age group 18-25: \",std_error_of_age_grp_18_25)\n",
    "print(\"Mean of means for age group 26_35: \",mean_of_means_age_grp_26_35_samples)\n",
    "print(\"std error for age group 26_35: \",std_error_of_age_grp_26_35)\n",
    "print(\"Mean of means for age group 36_45: \",mean_of_means_age_grp_36_45_samples)\n",
    "print(\"std error for age group 36_45: \",std_error_of_age_grp_36_45)\n",
    "print(\"Mean of means for age group 46_50: \",mean_of_means_age_grp_46_50_samples)\n",
    "print(\"std error for age group 46_50: \",std_error_of_age_grp_46_50)\n",
    "print(\"Mean of means for age group 51_55: \",mean_of_means_age_grp_51_55_samples)\n",
    "print(\"std error for age group 51_55: \",std_error_of_age_grp_51_55)\n",
    "print(\"Mean of means for age group abv_55: \",mean_of_means_age_grp_abv_55_samples)\n",
    "print(\"std error for age group abv_55: \",std_error_of_age_grp_abv_55)"
   ]
  },
  {
   "cell_type": "markdown",
   "id": "97950bbd",
   "metadata": {},
   "source": [
    "#### CI interval calculations for ages"
   ]
  },
  {
   "cell_type": "code",
   "execution_count": 41,
   "id": "a2e7a3fd",
   "metadata": {},
   "outputs": [
    {
     "name": "stdout",
     "output_type": "stream",
     "text": [
      "Mean expenses by age group 0-17 interval with 95% confidence: (8606.865680506775, 9250.135852826557)\n",
      "Mean expenses by age group 16-25 interval with 95% confidence: (8899.35820087414, 9532.84213245919)\n",
      "Mean expenses by age group 26-35 interval with 95% confidence: (8917.089279659349, 9575.587120340655)\n",
      "Mean expenses by age group 36-45 interval with 95% confidence: (8994.427497223924, 9654.791569442745)\n",
      "Mean expenses by age group 46-50 interval with 95% confidence: (8882.295139123657, 9546.878460876345)\n",
      "Mean expenses by age group 0-17 interval with 95% confidence: (9200.574655966324, 9867.476010700346)\n",
      "Mean expenses by age group 0-17 interval with 95% confidence: (8969.98142208578, 9610.743244580884)\n"
     ]
    }
   ],
   "source": [
    "age_0_17_interval_90 = norm.interval(0.95,loc=mean_of_means_age_grp_0_17_samples,scale=std_error_of_age_grp_0_17)\n",
    "age_16_25_interval_90 = norm.interval(0.95,loc=mean_of_means_age_grp_18_25_samples,scale=std_error_of_age_grp_18_25)\n",
    "age_26_35_interval_90 = norm.interval(0.95,loc=mean_of_means_age_grp_26_35_samples,scale=std_error_of_age_grp_26_35)\n",
    "age_36_45_interval_90 = norm.interval(0.95,loc=mean_of_means_age_grp_36_45_samples,scale=std_error_of_age_grp_36_45)\n",
    "age_46_50_interval_90 = norm.interval(0.95,loc=mean_of_means_age_grp_46_50_samples,scale=std_error_of_age_grp_46_50)\n",
    "age_51_55_interval_90 = norm.interval(0.95,loc=mean_of_means_age_grp_51_55_samples,scale=std_error_of_age_grp_51_55)\n",
    "age_abv_55_interval_90 = norm.interval(0.95,loc=mean_of_means_age_grp_abv_55_samples,scale=std_error_of_age_grp_abv_55)\n",
    "print('Mean expenses by age group 0-17 interval with 95% confidence:',age_0_17_interval_90)\n",
    "print('Mean expenses by age group 16-25 interval with 95% confidence:',age_16_25_interval_90)\n",
    "print('Mean expenses by age group 26-35 interval with 95% confidence:',age_26_35_interval_90)\n",
    "print('Mean expenses by age group 36-45 interval with 95% confidence:',age_36_45_interval_90)\n",
    "print('Mean expenses by age group 46-50 interval with 95% confidence:',age_46_50_interval_90)\n",
    "print('Mean expenses by age group 0-17 interval with 95% confidence:',age_51_55_interval_90)\n",
    "print('Mean expenses by age group 0-17 interval with 95% confidence:',age_abv_55_interval_90)"
   ]
  },
  {
   "cell_type": "markdown",
   "id": "30db8957",
   "metadata": {},
   "source": [
    "#### Observations\n",
    "Means are overlapping we cannot draw conclusions in spending habbits of different age groups"
   ]
  },
  {
   "cell_type": "markdown",
   "id": "cebf6bd6",
   "metadata": {},
   "source": [
    "**Recommendations**\n",
    "1. It is observed that more number of customers from age group 26-35 are making more purchases so - Add more products that other age groups are also interested in\n",
    "2. Frequently bought items are of Category - 1,5,8,11 and more males are buying the products from these category - ensure that the products in these category are in stock and temporary discounts to females to increase sales for these items\n",
    "3. More purchases are happening from City B - Stores in this city can be opened early or start the black friday sale early\n",
    "4. With 95% confidence, males are contibuting to more sales than females - Give some promotional offers to females and customer segmentation on males to identify the loyal customer in males to give some offers."
   ]
  }
 ],
 "metadata": {
  "kernelspec": {
   "display_name": "Python 3 (ipykernel)",
   "language": "python",
   "name": "python3"
  },
  "language_info": {
   "codemirror_mode": {
    "name": "ipython",
    "version": 3
   },
   "file_extension": ".py",
   "mimetype": "text/x-python",
   "name": "python",
   "nbconvert_exporter": "python",
   "pygments_lexer": "ipython3",
   "version": "3.9.12"
  }
 },
 "nbformat": 4,
 "nbformat_minor": 5
}
